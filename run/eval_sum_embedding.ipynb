{
 "cells": [
  {
   "cell_type": "code",
   "execution_count": 1,
   "id": "c4857dbc",
   "metadata": {},
   "outputs": [],
   "source": [
    "import torch\n",
    "import argparse\n",
    "import time\n",
    "import math\n",
    "import os, sys\n",
    "import itertools\n",
    "import pickle\n",
    "from tqdm import tqdm\n",
    "import numpy as np\n",
    "import os.path as osp"
   ]
  },
  {
   "cell_type": "code",
   "execution_count": 2,
   "id": "9b614af3",
   "metadata": {},
   "outputs": [
    {
     "data": {
      "text/plain": [
       "1"
      ]
     },
     "execution_count": 2,
     "metadata": {},
     "output_type": "execute_result"
    }
   ],
   "source": [
    "torch.cuda.device_count()"
   ]
  },
  {
   "cell_type": "code",
   "execution_count": 4,
   "id": "2c8eb4f6",
   "metadata": {},
   "outputs": [],
   "source": [
    "def loadpkl(path):\n",
    "    with open(path, 'rb') as f:\n",
    "        rst=pickle.load(f)\n",
    "    return rst"
   ]
  },
  {
   "cell_type": "code",
   "execution_count": 5,
   "id": "15fe8bec",
   "metadata": {},
   "outputs": [],
   "source": [
    "path=\"/share/data/mei-work/kangrui/github/ssref/data/refsum-data/arxiv-aiml/full_id_abs_title_cite_ref_author.pkl\"\n",
    "full_data=loadpkl(path)"
   ]
  },
  {
   "cell_type": "code",
   "execution_count": 6,
   "id": "71a274b1",
   "metadata": {},
   "outputs": [],
   "source": [
    "path=\"/share/data/mei-work/kangrui/github/ssref/result/eval_rerank/test_result/eval_key_id2embed.pkl\"\n",
    "key_embedding=loadpkl(path)"
   ]
  },
  {
   "cell_type": "code",
   "execution_count": 17,
   "id": "e3fb80f5",
   "metadata": {},
   "outputs": [],
   "source": [
    "path=\"/share/data/mei-work/kangrui/github/ssref/result/pretrained_pair_sbert/f1_result/eval_test_pred_1000.pkl\"\n",
    "pred_set=loadpkl(path)"
   ]
  },
  {
   "cell_type": "code",
   "execution_count": 18,
   "id": "3d9263d4",
   "metadata": {},
   "outputs": [],
   "source": [
    "path=\"/share/data/mei-work/kangrui/github/ssref/result/pretrained_pair_sbert/f1_result/eval_test_gold.pkl\"\n",
    "gold_set=loadpkl(path)"
   ]
  },
  {
   "cell_type": "code",
   "execution_count": 19,
   "id": "33819b43",
   "metadata": {},
   "outputs": [],
   "source": [
    "query_id2embedding=key_embedding\n",
    "key_id2embedding=key_embedding"
   ]
  },
  {
   "cell_type": "code",
   "execution_count": 20,
   "id": "88b5144b",
   "metadata": {},
   "outputs": [],
   "source": [
    "candidate_set={}\n",
    "candidate_ref_set={}\n",
    "for k,v in pred_set.items():\n",
    "    cur=set()\n",
    "    for paper in v[:200]:\n",
    "        cur.add(paper)\n",
    "        refset=set()\n",
    "        for ref in full_data[paper][\"references\"]:\n",
    "            cur.add(ref)\n",
    "            refset.add(ref)\n",
    "        candidate_ref_set[paper]=refset\n",
    "    candidate_set[k]=list(cur)"
   ]
  },
  {
   "cell_type": "code",
   "execution_count": 21,
   "id": "cfe81659",
   "metadata": {},
   "outputs": [
    {
     "name": "stdout",
     "output_type": "stream",
     "text": [
      "tensor([[-1.9392,  0.9045, -0.0835,  0.2560, -1.6710,  0.1556,  0.4475, -1.1248,\n",
      "          0.7270,  0.3560],\n",
      "        [-0.0942,  0.8383,  0.5340, -0.7872, -0.3984, -1.2047,  0.3545,  0.5832,\n",
      "          2.1999, -0.3582],\n",
      "        [-0.2738, -0.5424, -0.2009, -0.6824,  0.4770, -0.9267,  0.5580, -0.7867,\n",
      "         -1.3659, -1.8759],\n",
      "        [ 0.0259, -1.2168,  0.7497,  0.5638,  1.1777,  0.3550,  0.1802, -0.4498,\n",
      "          0.3754,  0.0600],\n",
      "        [ 0.4391, -0.3672,  1.8396,  0.7395,  0.7778,  0.5637,  0.3116,  0.3939,\n",
      "         -0.9402, -1.2173]])\n"
     ]
    }
   ],
   "source": [
    "tensor = torch.randn((5, 10))\n",
    "print(tensor)"
   ]
  },
  {
   "cell_type": "code",
   "execution_count": 22,
   "id": "b8b102bb",
   "metadata": {},
   "outputs": [
    {
     "name": "stdout",
     "output_type": "stream",
     "text": [
      "torch.Size([10])\n"
     ]
    }
   ],
   "source": [
    "mean_tensor = torch.mean(tensor, dim=0)\n",
    "print(mean_tensor.shape)"
   ]
  },
  {
   "cell_type": "code",
   "execution_count": 23,
   "id": "3b9e03b0",
   "metadata": {},
   "outputs": [],
   "source": [
    "\n",
    "    \n",
    "def rerank(candidate_set,query_id2embedding,key_id2embedding,candidate_ref_set,rerank_num=None,device=None):\n",
    "    cnt=0\n",
    "    pbar = tqdm(range(0,len(candidate_set),1), postfix=f\"calculating f1\")\n",
    "    query=list(candidate_set.keys())\n",
    "    empty_embed=torch.tensor(np.zeros_like(next(iter(key_id2embedding.values()))))\n",
    "    empty_embed_cnt=0\n",
    "    if rerank_num is None:\n",
    "        for v in candidate_set.values():\n",
    "            if rerank_num is None or rerank_num>len(v):\n",
    "                rerank_num=len(v)\n",
    "                \n",
    "    rerank_candidate={}   \n",
    "    for i in pbar:\n",
    "        query_paper=query[i]\n",
    "        query_embedding=torch.tensor(query_id2embedding[query_paper]).unsqueeze(0)\n",
    "        \n",
    "        cited_dict={}\n",
    "        for candidate in candidate_set[query_paper]:\n",
    "            \n",
    "            if candidate in candidate_ref_set.keys():\n",
    "                # this is possibly the anchor paper\n",
    "                for ref in list(candidate_ref_set[candidate]):\n",
    "                    # deal with the ref of an anchor paper\n",
    "                    if ref in candidate_set[query_paper]:\n",
    "                        if ref not in cited_dict.keys():\n",
    "                            cited_dict[ref]=[candidate]\n",
    "                        else:\n",
    "                            cited_dict[ref].append(candidate)\n",
    "                    else:\n",
    "                        # this is not anchor paper for this query\n",
    "                        break\n",
    "            if candidate not in cited_dict.keys():\n",
    "                cited_dict[candidate]=[candidate]\n",
    "            else:\n",
    "                cited_dict[candidate].append(candidate)\n",
    "                \n",
    "                \n",
    "        key_embedding=[]\n",
    "        for candidate in candidate_set[query_paper]:\n",
    "            candidate_embedding=[]\n",
    "            for paper in cited_dict[candidate]:\n",
    "                if paper in key_id2embedding:\n",
    "                    candidate_embedding.append(torch.tensor(key_id2embedding[paper]))\n",
    "            if len(candidate_embedding)==0:\n",
    "                candidate_embedding.append(empty_embed)\n",
    "                empty_embed_cnt+=1\n",
    "            candidate_embedding=torch.sum(torch.stack(candidate_embedding),dim=0)\n",
    "            \n",
    "            key_embedding.append(candidate_embedding)\n",
    "        \n",
    "        \n",
    "        key_embedding=torch.stack(key_embedding)\n",
    "        query_embedding=query_embedding.to(device)\n",
    "        key_embedding=key_embedding.to(device)\n",
    "        pred_logits=torch.mm(query_embedding,key_embedding.T)\n",
    "        top_k=torch.topk(pred_logits[0],k=rerank_num)[1]\n",
    "#         print(pred_logits[0][top_k[-5:]])\n",
    "        rerank=[candidate_set[query_paper][idx.cpu().item()] for idx in top_k]\n",
    "        rerank_candidate[query_paper]=rerank\n",
    "    print(\"empty embedding cnt->\",empty_embed_cnt)\n",
    "    print(\"min rerank num->\",rerank_num)\n",
    "    return rerank_candidate\n",
    "        \n",
    "        \n"
   ]
  },
  {
   "cell_type": "code",
   "execution_count": 24,
   "id": "4814628a",
   "metadata": {},
   "outputs": [],
   "source": [
    "device=torch.device('cuda' if torch.cuda.is_available() else 'cpu')"
   ]
  },
  {
   "cell_type": "code",
   "execution_count": 25,
   "id": "66aeaf87",
   "metadata": {},
   "outputs": [
    {
     "name": "stderr",
     "output_type": "stream",
     "text": [
      "100%|█████████████████████████████████████████████████████████████████████████████████████████████████████████████████████████████████████████| 944/944 [10:47<00:00,  1.46it/s, calculating f1]"
     ]
    },
    {
     "name": "stdout",
     "output_type": "stream",
     "text": [
      "empty embedding cnt-> 0\n",
      "min rerank num-> 1891\n"
     ]
    },
    {
     "name": "stderr",
     "output_type": "stream",
     "text": [
      "\n"
     ]
    }
   ],
   "source": [
    "rerank_candidate=rerank(candidate_set,query_id2embedding,key_id2embedding,candidate_ref_set,device=device)"
   ]
  },
  {
   "cell_type": "code",
   "execution_count": 26,
   "id": "32f933c3",
   "metadata": {},
   "outputs": [],
   "source": [
    "sys.path.append(\"/share/data/mei-work/kangrui/github/ssref\")\n",
    "from utils.test_utils import *\n",
    "from utils.utils import *"
   ]
  },
  {
   "cell_type": "code",
   "execution_count": 27,
   "id": "1f2ac9c1",
   "metadata": {},
   "outputs": [],
   "source": [
    "def show_rerank_rst(rerank_candidate,gold_set):\n",
    "    pool_length=len(next(iter(rerank_candidate.values())))\n",
    "    i=2\n",
    "    while 1:\n",
    "        all_pred_topN=[]\n",
    "        all_gold=[]\n",
    "        for query_paper,paperlist in rerank_candidate.items():\n",
    "            topN=paperlist[:i]\n",
    "            all_pred_topN.append(topN)\n",
    "            all_gold.append(gold_set[query_paper])\n",
    "        all_pred_topN=np.array(all_pred_topN)\n",
    "        metric = get_precision_recall_f1(all_pred_topN, all_gold)\n",
    "        print(f\"top{i}:\\n{metric}\")\n",
    "        if i>pool_length:\n",
    "            break\n",
    "        i*=2"
   ]
  },
  {
   "cell_type": "code",
   "execution_count": 28,
   "id": "9c1a2343",
   "metadata": {},
   "outputs": [
    {
     "name": "stdout",
     "output_type": "stream",
     "text": [
      "top2:\n",
      "{'precision': 0.2605932203389831, 'recall': 0.012799167533818939, 'f1': 0.024399920650664552, 'true_pos': 492, 'false_pos': 1396, 'false_neg': 37948, 'num_sample': 944}\n",
      "top4:\n",
      "{'precision': 0.2955508474576271, 'recall': 0.02903225806451613, 'f1': 0.052870949403069925, 'true_pos': 1116, 'false_pos': 2660, 'false_neg': 37324, 'num_sample': 944}\n",
      "top8:\n",
      "{'precision': 0.2856197033898305, 'recall': 0.056113423517169615, 'f1': 0.09379892155157418, 'true_pos': 2157, 'false_pos': 5395, 'false_neg': 36283, 'num_sample': 944}\n",
      "top16:\n",
      "{'precision': 0.23689088983050846, 'recall': 0.09308012486992716, 'f1': 0.1336470939787838, 'true_pos': 3578, 'false_pos': 11526, 'false_neg': 34862, 'num_sample': 944}\n",
      "top32:\n",
      "{'precision': 0.1855137711864407, 'recall': 0.14578563995837668, 'f1': 0.16326768441906536, 'true_pos': 5604, 'false_pos': 24604, 'false_neg': 32836, 'num_sample': 944}\n",
      "top64:\n",
      "{'precision': 0.13504700741525424, 'recall': 0.2122528616024974, 'f1': 0.16506838229343693, 'true_pos': 8159, 'false_pos': 52257, 'false_neg': 30281, 'num_sample': 944}\n",
      "top128:\n",
      "{'precision': 0.09289757680084745, 'recall': 0.29201352757544224, 'f1': 0.140953839971872, 'true_pos': 11225, 'false_pos': 109607, 'false_neg': 27215, 'num_sample': 944}\n",
      "top256:\n",
      "{'precision': 0.06130826271186441, 'recall': 0.3854318418314256, 'f1': 0.10578927826807187, 'true_pos': 14816, 'false_pos': 226848, 'false_neg': 23624, 'num_sample': 944}\n",
      "top512:\n",
      "{'precision': 0.038594908633474576, 'recall': 0.4852757544224766, 'f1': 0.07150304349825976, 'true_pos': 18654, 'false_pos': 464674, 'false_neg': 19786, 'num_sample': 944}\n",
      "top1024:\n",
      "{'precision': 0.0230640476032839, 'recall': 0.5799947970863684, 'f1': 0.044363921456258906, 'true_pos': 22295, 'false_pos': 944361, 'false_neg': 16145, 'num_sample': 944}\n",
      "top2048:\n",
      "{'precision': 0.014158838924790937, 'recall': 0.6575182101977107, 'f1': 0.027720745975967673, 'true_pos': 25275, 'false_pos': 1759829, 'false_neg': 13165, 'num_sample': 944}\n"
     ]
    }
   ],
   "source": [
    "show_rerank_rst(rerank_candidate,gold_set)"
   ]
  },
  {
   "cell_type": "code",
   "execution_count": null,
   "id": "5f08401e",
   "metadata": {},
   "outputs": [],
   "source": []
  },
  {
   "cell_type": "code",
   "execution_count": null,
   "id": "075324df",
   "metadata": {},
   "outputs": [],
   "source": []
  }
 ],
 "metadata": {
  "kernelspec": {
   "display_name": "Python 3 (ipykernel)",
   "language": "python",
   "name": "python3"
  },
  "language_info": {
   "codemirror_mode": {
    "name": "ipython",
    "version": 3
   },
   "file_extension": ".py",
   "mimetype": "text/x-python",
   "name": "python",
   "nbconvert_exporter": "python",
   "pygments_lexer": "ipython3",
   "version": "3.8.16"
  }
 },
 "nbformat": 4,
 "nbformat_minor": 5
}
