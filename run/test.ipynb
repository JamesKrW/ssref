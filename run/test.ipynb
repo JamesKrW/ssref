{
 "cells": [
  {
   "cell_type": "code",
   "execution_count": 1,
   "id": "9feb6a92",
   "metadata": {},
   "outputs": [],
   "source": [
    "import torch\n",
    "import argparse\n",
    "import time\n",
    "import math\n",
    "import os, sys\n",
    "import itertools\n",
    "import pickle\n",
    "from tqdm import tqdm\n",
    "import numpy as np\n",
    "import os.path as osp"
   ]
  },
  {
   "cell_type": "code",
   "execution_count": 2,
   "id": "edbb7b9c",
   "metadata": {},
   "outputs": [
    {
     "data": {
      "text/plain": [
       "1"
      ]
     },
     "execution_count": 2,
     "metadata": {},
     "output_type": "execute_result"
    }
   ],
   "source": [
    "torch.cuda.device_count()"
   ]
  },
  {
   "cell_type": "code",
   "execution_count": 4,
   "id": "ae9383cd",
   "metadata": {},
   "outputs": [],
   "source": [
    "a = torch.randn(5, 10)\n",
    "b = torch.randn(5, 10)\n",
    "c = torch.einsum('ij,ij->i', a, b)"
   ]
  },
  {
   "cell_type": "code",
   "execution_count": 5,
   "id": "89a3290e",
   "metadata": {},
   "outputs": [
    {
     "data": {
      "text/plain": [
       "tensor([[-0.0915, -1.0638,  0.7736,  0.9040,  1.5468, -1.7189,  0.1006,  2.2551,\n",
       "          1.1974,  0.0685],\n",
       "        [ 1.4588,  0.3196,  0.1219, -0.7941, -1.0080, -2.2741,  0.8354, -1.0704,\n",
       "          0.1730,  0.8801],\n",
       "        [-0.0487, -0.8441, -0.6220, -1.0271, -2.1743, -1.2399, -0.6075, -0.4799,\n",
       "          1.0143, -0.9162],\n",
       "        [ 1.0284,  0.7337,  0.0296,  0.0255, -2.9406,  0.4970, -0.3213, -0.0674,\n",
       "          0.6536,  0.7441],\n",
       "        [-0.1515, -0.1879, -0.3897,  0.9509,  1.2565, -0.5087,  1.1670,  0.6525,\n",
       "          1.2678, -0.3780]])"
      ]
     },
     "execution_count": 5,
     "metadata": {},
     "output_type": "execute_result"
    }
   ],
   "source": [
    "a"
   ]
  },
  {
   "cell_type": "code",
   "execution_count": 6,
   "id": "fb2df103",
   "metadata": {},
   "outputs": [
    {
     "data": {
      "text/plain": [
       "tensor([[-1.1889,  0.5402, -0.5387, -1.0289,  0.3617,  0.6917,  0.9386, -0.2878,\n",
       "          1.7546,  0.7516],\n",
       "        [-1.1264,  0.4338, -0.6542, -1.8350, -0.0124, -2.5025,  0.0984, -0.2196,\n",
       "          1.3807,  1.1668],\n",
       "        [-0.3692, -1.4367,  1.4941,  0.0331, -0.2852, -1.0265,  0.8621, -0.8295,\n",
       "         -0.0525, -0.0734],\n",
       "        [-1.4226, -0.9828,  1.4360,  0.1696, -0.1918, -0.6819,  0.4225,  0.7971,\n",
       "         -0.0228, -0.5700],\n",
       "        [ 0.4731, -0.9556, -1.6145,  0.2961,  1.4389,  1.1300,  1.0665, -1.3910,\n",
       "         -1.1682,  1.1470]])"
      ]
     },
     "execution_count": 6,
     "metadata": {},
     "output_type": "execute_result"
    }
   ],
   "source": [
    "b"
   ]
  },
  {
   "cell_type": "code",
   "execution_count": 7,
   "id": "24f61311",
   "metadata": {},
   "outputs": [
    {
     "data": {
      "text/plain": [
       "tensor([-0.8442,  7.1592,  2.0485, -2.5406,  0.6740])"
      ]
     },
     "execution_count": 7,
     "metadata": {},
     "output_type": "execute_result"
    }
   ],
   "source": [
    "c"
   ]
  },
  {
   "cell_type": "code",
   "execution_count": 9,
   "id": "45541a8f",
   "metadata": {},
   "outputs": [
    {
     "data": {
      "text/plain": [
       "tensor(7.1592)"
      ]
     },
     "execution_count": 9,
     "metadata": {},
     "output_type": "execute_result"
    }
   ],
   "source": [
    "a[1]@b[1].T"
   ]
  },
  {
   "cell_type": "code",
   "execution_count": null,
   "id": "6d4a2b79",
   "metadata": {},
   "outputs": [],
   "source": []
  }
 ],
 "metadata": {
  "kernelspec": {
   "display_name": "Python 3 (ipykernel)",
   "language": "python",
   "name": "python3"
  },
  "language_info": {
   "codemirror_mode": {
    "name": "ipython",
    "version": 3
   },
   "file_extension": ".py",
   "mimetype": "text/x-python",
   "name": "python",
   "nbconvert_exporter": "python",
   "pygments_lexer": "ipython3",
   "version": "3.8.16"
  }
 },
 "nbformat": 4,
 "nbformat_minor": 5
}
