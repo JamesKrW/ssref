{
 "cells": [
  {
   "cell_type": "code",
   "execution_count": 1,
   "id": "9feb6a92",
   "metadata": {},
   "outputs": [],
   "source": [
    "import torch\n",
    "import argparse\n",
    "import time\n",
    "import math\n",
    "import os, sys\n",
    "import itertools\n",
    "import pickle\n",
    "from tqdm import tqdm\n",
    "import numpy as np\n",
    "import os.path as osp"
   ]
  },
  {
   "cell_type": "code",
   "execution_count": 2,
   "id": "fe8deed3",
   "metadata": {},
   "outputs": [
    {
     "name": "stdout",
     "output_type": "stream",
     "text": [
      "tensor([1, 2, 4])\n"
     ]
    }
   ],
   "source": [
    "import torch\n",
    "\n",
    "# 创建形状为 (n,) 的标签张量 label\n",
    "label = torch.tensor([0, 1, 1, 0, 1])\n",
    "\n",
    "# 找到所有标签值为 1 的元素的索引\n",
    "index = torch.nonzero(label == 1).squeeze()\n",
    "\n",
    "# 输出索引\n",
    "print(index)\n"
   ]
  },
  {
   "cell_type": "code",
   "execution_count": 3,
   "id": "edbb7b9c",
   "metadata": {},
   "outputs": [
    {
     "data": {
      "text/plain": [
       "1"
      ]
     },
     "execution_count": 3,
     "metadata": {},
     "output_type": "execute_result"
    }
   ],
   "source": [
    "torch.cuda.device_count()"
   ]
  },
  {
   "cell_type": "code",
   "execution_count": 4,
   "id": "ae9383cd",
   "metadata": {},
   "outputs": [],
   "source": [
    "def loadpkl(path):\n",
    "    with open(path, 'rb') as f:\n",
    "        rst=pickle.load(f)\n",
    "    return rst"
   ]
  },
  {
   "cell_type": "code",
   "execution_count": 5,
   "id": "fa84986f",
   "metadata": {},
   "outputs": [],
   "source": [
    "path=\"/share/data/mei-work/kangrui/github/ssref/data/refsum-data/arxiv-aiml/full_id_abs_title_cite_ref_author.pkl\"\n",
    "full_data=loadpkl(path)"
   ]
  },
  {
   "cell_type": "code",
   "execution_count": 6,
   "id": "030c6056",
   "metadata": {},
   "outputs": [],
   "source": [
    "path=\"/share/data/mei-work/kangrui/github/ssref/data/refsum-data/arxiv-aiml/train.pkl\"\n",
    "train=loadpkl(path)"
   ]
  },
  {
   "cell_type": "code",
   "execution_count": 8,
   "id": "f6ed39ab",
   "metadata": {},
   "outputs": [
    {
     "name": "stdout",
     "output_type": "stream",
     "text": [
      "172610\n"
     ]
    }
   ],
   "source": [
    "print(len(train))"
   ]
  },
  {
   "cell_type": "code",
   "execution_count": 10,
   "id": "22d9469f",
   "metadata": {},
   "outputs": [
    {
     "name": "stdout",
     "output_type": "stream",
     "text": [
      "5288766\n"
     ]
    }
   ],
   "source": [
    "cnt=0\n",
    "train_cite_pair=[]\n",
    "for paper in train:\n",
    "    if len(full_data[paper]['abstract'])>0:\n",
    "        for ref in full_data[paper]['references']:\n",
    "            if ref in full_data.keys():\n",
    "                train_cite_pair.append((paper,ref))\n",
    "print(len(train_cite_pair))"
   ]
  },
  {
   "cell_type": "code",
   "execution_count": 11,
   "id": "6a9dea6e",
   "metadata": {},
   "outputs": [
    {
     "data": {
      "text/plain": [
       "('7502372bac32d9967eeb4bf68a430a74dadf748c',\n",
       " 'fe2b6e2abc22bdd4338953ec47eea276c75c9819')"
      ]
     },
     "execution_count": 11,
     "metadata": {},
     "output_type": "execute_result"
    }
   ],
   "source": [
    "train_cite_pair[0]"
   ]
  },
  {
   "cell_type": "code",
   "execution_count": 6,
   "id": "2a71fe4c",
   "metadata": {},
   "outputs": [],
   "source": [
    "path=\"/share/data/mei-work/kangrui/github/ssref/data/refsum-data/arxiv-aiml/train_cite_pair.pkl\"\n",
    "train_cite_pair=loadpkl(path)"
   ]
  },
  {
   "cell_type": "code",
   "execution_count": 14,
   "id": "c95f6aff",
   "metadata": {},
   "outputs": [
    {
     "name": "stdout",
     "output_type": "stream",
     "text": [
      "5288766\n"
     ]
    }
   ],
   "source": [
    "print(len(train_cite_pair))"
   ]
  },
  {
   "cell_type": "code",
   "execution_count": 12,
   "id": "6066749f",
   "metadata": {},
   "outputs": [
    {
     "data": {
      "text/plain": [
       "('9dad5f3b491fba9496c90bb7cfe10d1c0f00fadc',\n",
       " '402f850dff86fb601d34b2841e6083ac0f928edd')"
      ]
     },
     "execution_count": 12,
     "metadata": {},
     "output_type": "execute_result"
    }
   ],
   "source": [
    "train_cite_pair[0]"
   ]
  },
  {
   "cell_type": "code",
   "execution_count": 10,
   "id": "e2de7d1e",
   "metadata": {},
   "outputs": [],
   "source": [
    "train_cite_pair=list(set(train_cite_pair))"
   ]
  },
  {
   "cell_type": "code",
   "execution_count": 13,
   "id": "9fb10c40",
   "metadata": {},
   "outputs": [],
   "source": [
    "new_train=[]\n",
    "for k in train_cite_pair:\n",
    "    query=k[0]\n",
    "    key=k[1]\n",
    "    if query in full_data.keys() and key in full_data.keys():\n",
    "        if full_data[query]['abstract'] is not None and full_data[key]['abstract'] is not None:\n",
    "            new_train.append((query,key))\n",
    "    "
   ]
  },
  {
   "cell_type": "code",
   "execution_count": 14,
   "id": "d49aac7c",
   "metadata": {},
   "outputs": [
    {
     "name": "stdout",
     "output_type": "stream",
     "text": [
      "4201091\n"
     ]
    }
   ],
   "source": [
    "print(len(new_train))"
   ]
  },
  {
   "cell_type": "code",
   "execution_count": 15,
   "id": "632207d3",
   "metadata": {},
   "outputs": [
    {
     "data": {
      "text/plain": [
       "('9dad5f3b491fba9496c90bb7cfe10d1c0f00fadc',\n",
       " '402f850dff86fb601d34b2841e6083ac0f928edd')"
      ]
     },
     "execution_count": 15,
     "metadata": {},
     "output_type": "execute_result"
    }
   ],
   "source": [
    "new_train[0]"
   ]
  },
  {
   "cell_type": "code",
   "execution_count": 13,
   "id": "7c963e7c",
   "metadata": {},
   "outputs": [],
   "source": [
    "path=\"/share/data/mei-work/kangrui/github/ssref/data/refsum-data/arxiv-aiml/train_cite_pair.pkl\"\n",
    "with open(path,'wb') as f:\n",
    "    pickle.dump(train_cite_pair,f)"
   ]
  },
  {
   "cell_type": "code",
   "execution_count": 17,
   "id": "5bb78430",
   "metadata": {},
   "outputs": [],
   "source": [
    "path=\"/share/data/mei-work/kangrui/github/ssref/data/refsum-data/arxiv-aiml-small/dev_cite_pair.pkl\"\n",
    "dev_cite_pair=loadpkl(path)"
   ]
  },
  {
   "cell_type": "code",
   "execution_count": 18,
   "id": "a30d167b",
   "metadata": {},
   "outputs": [],
   "source": [
    "dev_cite_pair=list(set(dev_cite_pair))"
   ]
  },
  {
   "cell_type": "code",
   "execution_count": 19,
   "id": "a9b3fabb",
   "metadata": {},
   "outputs": [
    {
     "name": "stdout",
     "output_type": "stream",
     "text": [
      "35540\n"
     ]
    }
   ],
   "source": [
    "print(len(dev_cite_pair))"
   ]
  },
  {
   "cell_type": "code",
   "execution_count": 20,
   "id": "ef784282",
   "metadata": {},
   "outputs": [],
   "source": [
    "new_dev=[]\n",
    "for k in dev_cite_pair:\n",
    "    query=k[0]\n",
    "    key=k[1]\n",
    "    if query in full_data.keys() and key in full_data.keys():\n",
    "        if full_data[query]['abstract'] is not None and full_data[key]['abstract'] is not None:\n",
    "            new_dev.append((query,key))"
   ]
  },
  {
   "cell_type": "code",
   "execution_count": 21,
   "id": "24f5c755",
   "metadata": {},
   "outputs": [
    {
     "name": "stdout",
     "output_type": "stream",
     "text": [
      "29218\n"
     ]
    }
   ],
   "source": [
    "print(len(new_dev))"
   ]
  },
  {
   "cell_type": "code",
   "execution_count": 22,
   "id": "135ef787",
   "metadata": {},
   "outputs": [],
   "source": [
    "path=\"/share/data/mei-work/kangrui/github/ssref/data/refsum-data/arxiv-aiml-small/dev_cite_pair.pkl\"\n",
    "with open(path,'wb') as f:\n",
    "    pickle.dump(new_dev,f)"
   ]
  },
  {
   "cell_type": "code",
   "execution_count": 23,
   "id": "9ba310f6",
   "metadata": {},
   "outputs": [
    {
     "name": "stdout",
     "output_type": "stream",
     "text": [
      "0\n"
     ]
    }
   ],
   "source": [
    "cnt=0\n",
    "train_key=set()\n",
    "for k in new_train:\n",
    "    train_key.add(k[0])\n",
    "for k in new_dev:\n",
    "    if k[0] in train_key:\n",
    "        cnt+=1\n",
    "print(cnt)"
   ]
  },
  {
   "cell_type": "code",
   "execution_count": 24,
   "id": "1b67fa77",
   "metadata": {},
   "outputs": [
    {
     "name": "stdout",
     "output_type": "stream",
     "text": [
      "149259\n"
     ]
    }
   ],
   "source": [
    "print(len(train_key))"
   ]
  },
  {
   "cell_type": "code",
   "execution_count": 26,
   "id": "15f7fb52",
   "metadata": {},
   "outputs": [
    {
     "data": {
      "text/plain": [
       "'07f8c9d9b8c438dc200a03ae44217aa4af2e25a2'"
      ]
     },
     "execution_count": 26,
     "metadata": {},
     "output_type": "execute_result"
    }
   ],
   "source": [
    "list(train_key)[0]"
   ]
  },
  {
   "cell_type": "code",
   "execution_count": 27,
   "id": "1156fc16",
   "metadata": {},
   "outputs": [
    {
     "data": {
      "text/plain": [
       "'b5e23ed419347d125874d721d82151e2e32e70bc'"
      ]
     },
     "execution_count": 27,
     "metadata": {},
     "output_type": "execute_result"
    }
   ],
   "source": [
    "new_dev[0][0]"
   ]
  },
  {
   "cell_type": "code",
   "execution_count": null,
   "id": "74a84883",
   "metadata": {},
   "outputs": [],
   "source": [
    "test_gold=loadpkl(\"/share/data/mei-work/kangrui/github/ssref/result/pretrained_pair_sbert/f1_result/eval_test_gold.pkl\")"
   ]
  },
  {
   "cell_type": "code",
   "execution_count": 29,
   "id": "1cc6241a",
   "metadata": {},
   "outputs": [],
   "source": [
    "cnt=0\n",
    "total=0\n",
    "for k,v in test_gold.items():\n",
    "    for pid in v:\n",
    "        if pid in full_data.keys() and full_data[pid]['abstract'] is not None:\n",
    "            cnt+=1\n",
    "        total+=1"
   ]
  },
  {
   "cell_type": "code",
   "execution_count": 30,
   "id": "9ce8159e",
   "metadata": {},
   "outputs": [
    {
     "name": "stdout",
     "output_type": "stream",
     "text": [
      "31465\n",
      "38440\n"
     ]
    }
   ],
   "source": [
    "print(cnt)\n",
    "print(total)"
   ]
  },
  {
   "cell_type": "code",
   "execution_count": 31,
   "id": "2c6ad742",
   "metadata": {},
   "outputs": [],
   "source": [
    "save_dir='/share/data/mei-work/kangrui/github/ssref/result/sentence-transformers_all-MiniLM-L6-v2/2023-04-03T04-11-59'\n",
    "key_embed_path=osp.join(osp.join(save_dir,'test_result'),'eval_key_id2embed.pkl')\n",
    "test_embed_path=osp.join(osp.join(save_dir,'test_result'),'eval_test_id2embed.pkl')"
   ]
  },
  {
   "cell_type": "code",
   "execution_count": 32,
   "id": "e0db75f6",
   "metadata": {},
   "outputs": [
    {
     "data": {
      "text/plain": [
       "'/share/data/mei-work/kangrui/github/ssref/result/sentence-transformers_all-MiniLM-L6-v2/2023-04-03T04-11-59/test_result/eval_key_id2embed.pkl'"
      ]
     },
     "execution_count": 32,
     "metadata": {},
     "output_type": "execute_result"
    }
   ],
   "source": [
    "key_embed_path"
   ]
  },
  {
   "cell_type": "code",
   "execution_count": 33,
   "id": "40d6025f",
   "metadata": {},
   "outputs": [
    {
     "data": {
      "text/plain": [
       "True"
      ]
     },
     "execution_count": 33,
     "metadata": {},
     "output_type": "execute_result"
    }
   ],
   "source": [
    "osp.exists(key_embed_path)"
   ]
  },
  {
   "cell_type": "code",
   "execution_count": 34,
   "id": "b569d8b5",
   "metadata": {},
   "outputs": [
    {
     "data": {
      "text/plain": [
       "True"
      ]
     },
     "execution_count": 34,
     "metadata": {},
     "output_type": "execute_result"
    }
   ],
   "source": [
    "osp.exists(test_embed_path)"
   ]
  },
  {
   "cell_type": "code",
   "execution_count": null,
   "id": "a3d8c047",
   "metadata": {},
   "outputs": [],
   "source": []
  }
 ],
 "metadata": {
  "kernelspec": {
   "display_name": "Python 3 (ipykernel)",
   "language": "python",
   "name": "python3"
  },
  "language_info": {
   "codemirror_mode": {
    "name": "ipython",
    "version": 3
   },
   "file_extension": ".py",
   "mimetype": "text/x-python",
   "name": "python",
   "nbconvert_exporter": "python",
   "pygments_lexer": "ipython3",
   "version": "3.8.16"
  }
 },
 "nbformat": 4,
 "nbformat_minor": 5
}
