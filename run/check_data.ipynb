{
 "cells": [
  {
   "cell_type": "code",
   "execution_count": 1,
   "id": "f5468ce3",
   "metadata": {},
   "outputs": [],
   "source": [
    "import torch\n",
    "import argparse\n",
    "import time\n",
    "import math\n",
    "import os, sys\n",
    "import itertools\n",
    "import pickle\n",
    "from tqdm import tqdm\n",
    "import numpy as np\n",
    "import os.path as osp"
   ]
  },
  {
   "cell_type": "code",
   "execution_count": 2,
   "id": "04a3dc74",
   "metadata": {},
   "outputs": [
    {
     "data": {
      "text/plain": [
       "1"
      ]
     },
     "execution_count": 2,
     "metadata": {},
     "output_type": "execute_result"
    }
   ],
   "source": [
    "torch.cuda.device_count()"
   ]
  },
  {
   "cell_type": "code",
   "execution_count": 3,
   "id": "0f523dc3",
   "metadata": {},
   "outputs": [],
   "source": [
    "def loadpkl(path):\n",
    "    with open(path, 'rb') as f:\n",
    "        rst=pickle.load(f)\n",
    "    return rst"
   ]
  },
  {
   "cell_type": "code",
   "execution_count": 4,
   "id": "30a9ff70",
   "metadata": {},
   "outputs": [],
   "source": [
    "path=\"/share/data/mei-work/kangrui/github/ssref/data/refsum-data/arxiv-aiml/full_data_no_embed.pkl\"\n",
    "full_data=loadpkl(path)"
   ]
  },
  {
   "cell_type": "code",
   "execution_count": 5,
   "id": "38f5d0a8",
   "metadata": {},
   "outputs": [],
   "source": [
    "def get_recall(pred, gold): \n",
    "    # list of lists of strings \n",
    "    # all_pred : [{'a', 'b'}, {'c', 'd', 'e'}, ...]\n",
    "    # all_gold : [{'a', 'b', 'c'}, {'d', 'e'}, ...]\n",
    "    intersect = pred & gold\n",
    "    true_pos = len(intersect)\n",
    "    false_neg = len(gold) - len(intersect)\n",
    "    r = 1.0 * true_pos / (true_pos + false_neg)\n",
    "    return r"
   ]
  },
  {
   "cell_type": "code",
   "execution_count": 6,
   "id": "56b369d2",
   "metadata": {},
   "outputs": [
    {
     "name": "stdout",
     "output_type": "stream",
     "text": [
      "sort ids\n",
      "build keys\n",
      "length of id2embed 2037520\n",
      "length of rank2id 2037520\n",
      "start search ...\n",
      "Eval [eval_dev]: 100%|██████████████████████| 1000/1000 [00:21<00:00, 45.77it/s]\n",
      "compute eval metric ...\n",
      "[ Fri Mar 24 04:32:20 2023 ] num sampled:64\n",
      "[ Fri Mar 24 04:32:20 2023 ] {'precision': 0.058261639676113364, 'recall': 0.08842378129275376, 'f1': 0.07024167024167025, 'true_pos': 3684, 'false_pos': 59548, 'false_neg': 37979, 'num_sample': 988}\n",
      "[ Fri Mar 24 04:32:20 2023 ] num sampled:128\n",
      "[ Fri Mar 24 04:32:20 2023 ] {'precision': 0.040058830971659916, 'recall': 0.12159470033362936, 'f1': 0.06026396712009373, 'true_pos': 5066, 'false_pos': 121398, 'false_neg': 36597, 'num_sample': 988}\n"
     ]
    }
   ],
   "source": [
    "! python /share/data/mei-work/kangrui/github/ssref/run/calculate_f1.py"
   ]
  },
  {
   "cell_type": "code",
   "execution_count": null,
   "id": "b1d7e77f",
   "metadata": {},
   "outputs": [],
   "source": []
  }
 ],
 "metadata": {
  "kernelspec": {
   "display_name": "Python 3 (ipykernel)",
   "language": "python",
   "name": "python3"
  },
  "language_info": {
   "codemirror_mode": {
    "name": "ipython",
    "version": 3
   },
   "file_extension": ".py",
   "mimetype": "text/x-python",
   "name": "python",
   "nbconvert_exporter": "python",
   "pygments_lexer": "ipython3",
   "version": "3.8.16"
  }
 },
 "nbformat": 4,
 "nbformat_minor": 5
}
