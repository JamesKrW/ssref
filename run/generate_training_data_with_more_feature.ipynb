{
 "cells": [
  {
   "cell_type": "code",
   "execution_count": 1,
   "id": "0d424a72",
   "metadata": {},
   "outputs": [],
   "source": [
    "import torch\n",
    "import argparse\n",
    "import time\n",
    "import math\n",
    "import os, sys\n",
    "import itertools\n",
    "import pickle\n",
    "from tqdm import tqdm\n",
    "import numpy as np\n",
    "import os.path as osp"
   ]
  },
  {
   "cell_type": "code",
   "execution_count": 2,
   "id": "f0d58340",
   "metadata": {},
   "outputs": [
    {
     "data": {
      "text/plain": [
       "1"
      ]
     },
     "execution_count": 2,
     "metadata": {},
     "output_type": "execute_result"
    }
   ],
   "source": [
    "torch.cuda.device_count()"
   ]
  },
  {
   "cell_type": "code",
   "execution_count": 3,
   "id": "2e4a6b40",
   "metadata": {},
   "outputs": [],
   "source": [
    "def loadpkl(path):\n",
    "    with open(path, 'rb') as f:\n",
    "        rst=pickle.load(f)\n",
    "    return rst"
   ]
  },
  {
   "cell_type": "code",
   "execution_count": 4,
   "id": "10ed9e06",
   "metadata": {},
   "outputs": [],
   "source": [
    "path=\"/share/data/mei-work/kangrui/github/ssref/data/refsum-data/arxiv-aiml/full_data_no_embed.pkl\"\n",
    "full_data=loadpkl(path)"
   ]
  },
  {
   "cell_type": "code",
   "execution_count": 26,
   "id": "4f81d3fa",
   "metadata": {},
   "outputs": [],
   "source": [
    "train_data={}\n",
    "for k in full_data:\n",
    "    data={}\n",
    "    data['paperID']=k\n",
    "\n",
    "    if full_data[k]['abstract'] is not None:\n",
    "        data['abstract']=full_data[k]['abstract']\n",
    "    else:\n",
    "        data['abstract']=\"\"\n",
    "\n",
    "    if full_data[k]['title'] is not None:\n",
    "        data['title']=full_data[k]['title']\n",
    "    else:\n",
    "        data['title']=\"\"\n",
    "\n",
    "    data['authors']=full_data[k]['authors']\n",
    "    train_data[k]=data\n",
    "path=f\"/share/data/mei-work/kangrui/github/ssref/data/refsum-data/arxiv-aiml/full_data_abs_title_author_data.pkl\"\n",
    "with open(path,'wb') as f:\n",
    "    pickle.dump(train_data,f)"
   ]
  },
  {
   "cell_type": "code",
   "execution_count": 27,
   "id": "ffa27080",
   "metadata": {},
   "outputs": [
    {
     "name": "stdout",
     "output_type": "stream",
     "text": [
      "2037520\n",
      "5fd27a206360395fe1a2c883d3f3e372e8c31209\n",
      "{'paperID': '5fd27a206360395fe1a2c883d3f3e372e8c31209', 'abstract': '', 'title': 'Novel Algorithm to Calculate Hypervolume Indicator of Pareto Approximation Set', 'authors': [{'authorId': '2149536821', 'name': 'Qing Yang'}, {'authorId': '33713842', 'name': 'Shengchao Ding'}]}\n"
     ]
    }
   ],
   "source": [
    "print(len(train_data)) \n",
    "for k,v in train_data.items():\n",
    "    print(k)\n",
    "    print(v)\n",
    "    break"
   ]
  },
  {
   "cell_type": "code",
   "execution_count": 7,
   "id": "a85352a2",
   "metadata": {},
   "outputs": [
    {
     "name": "stdout",
     "output_type": "stream",
     "text": [
      "dict_keys(['paperId', 'externalIds', 'publicationVenue', 'url', 'title', 'abstract', 'venue', 'year', 'referenceCount', 'citationCount', 'influentialCitationCount', 'isOpenAccess', 'fieldsOfStudy', 'publicationTypes', 'publicationDate', 'journal', 'citationStyles', 'authors', 'references'])\n",
      "[{'authorId': '2149536821', 'name': 'Qing Yang'}, {'authorId': '33713842', 'name': 'Shengchao Ding'}]\n",
      "Novel Algorithm to Calculate Hypervolume Indicator of Pareto Approximation Set\n",
      "None\n"
     ]
    }
   ],
   "source": [
    "for k,v in full_data.items():\n",
    "    print(v.keys())\n",
    "    print(v['authors'])\n",
    "    print(v['title'])\n",
    "    print(v['abstract'])\n",
    "    break"
   ]
  },
  {
   "cell_type": "code",
   "execution_count": 8,
   "id": "c73de0de",
   "metadata": {},
   "outputs": [],
   "source": [
    "train=loadpkl('/share/data/mei-work/kangrui/github/ssref/data/refsum-data/arxiv-aiml-small/train.pkl')"
   ]
  },
  {
   "cell_type": "code",
   "execution_count": 9,
   "id": "c9f77041",
   "metadata": {},
   "outputs": [
    {
     "name": "stdout",
     "output_type": "stream",
     "text": [
      "acb6fd4058b3c6ce491d5cde499d7733909bc8a9\n"
     ]
    }
   ],
   "source": [
    "for k in train:\n",
    "    print(k)\n",
    "    break"
   ]
  },
  {
   "cell_type": "code",
   "execution_count": 24,
   "id": "1d5aa30b",
   "metadata": {},
   "outputs": [],
   "source": [
    "for mode in ['train','dev','test']:\n",
    "    path=f\"/share/data/mei-work/kangrui/github/ssref/data/refsum-data/arxiv-aiml-small/{mode}_filtered.pkl\"\n",
    "    train=loadpkl(path)\n",
    "    train_data={}\n",
    "    for k in train:\n",
    "        data={}\n",
    "        data['paperID']=k\n",
    "        \n",
    "        if full_data[k]['abstract'] is not None:\n",
    "            data['abstract']=full_data[k]['abstract']\n",
    "        else:\n",
    "            data['abstract']=\"\"\n",
    "            \n",
    "        if full_data[k]['title'] is not None:\n",
    "            data['title']=full_data[k]['title']\n",
    "        else:\n",
    "            data['title']=\"\"\n",
    "            \n",
    "        data['authors']=full_data[k]['authors']\n",
    "        train_data[k]=data\n",
    "    path=f\"/share/data/mei-work/kangrui/github/ssref/data/refsum-data/arxiv-aiml-small/{mode}_filtered_abs_title_author_data.pkl\"\n",
    "    with open(path,'wb') as f:\n",
    "        pickle.dump(train_data,f)"
   ]
  },
  {
   "cell_type": "code",
   "execution_count": 7,
   "id": "79665987",
   "metadata": {},
   "outputs": [],
   "source": [
    "data=loadpkl('/share/data/mei-work/kangrui/github/ssref/data/refsum-data/arxiv-aiml-small/test_filtered_abs_title_author_data.pkl')"
   ]
  },
  {
   "cell_type": "code",
   "execution_count": 8,
   "id": "98ef5482",
   "metadata": {},
   "outputs": [
    {
     "name": "stdout",
     "output_type": "stream",
     "text": [
      "968\n",
      "{'paperID': '0599083e7f6c2574a24f63a7510e39598db46623', 'abstract': 'We introduce Dreamento (Dream engineering toolbox), an open-source Python package for dream engineering using sleep electroencephalography (EEG) wearables. Dreamento main functions are (1) real-time recording, monitoring, analysis, and sensory stimulation, and (2) ofﬂine post-processing of the resulting data, both in a graphical user interface (GUI). In real-time, Dreamento is capable of (1) data recording, visualization, and navigation, (2) power-spectrum analysis, (3) automatic sleep scoring, (4) sensory stimulation (visual, auditory, tactile), (5) establishing text-to-speech communication, and (6) managing annotations of automatic and manual events. The ofﬂine functions aid in post-processing the acquired data with features to reformat the wearable data and integrate it with non-wearable recorded modalities such as electromyography (EMG). While Dreamento was primarily developed for (lucid) dreaming studies, its applications can be extended to other areas of sleep research such as closed-loop auditory stimulation and targeted memory reactivation.', 'title': 'Dreamento: an open-source dream engineering toolbox for sleep EEG wearables', 'authors': [{'authorId': '1576660805', 'name': 'Mahdad Jafarzadeh Esfahani'}, {'authorId': '2175556192', 'name': 'Amir Hossein Daraie'}, {'authorId': '6147931', 'name': 'F. Weber'}, {'authorId': '1983110', 'name': 'M. Dresler'}]}\n"
     ]
    }
   ],
   "source": [
    "print(len(data))\n",
    "for k,v in data.items():\n",
    "    x=v\n",
    "    print(v)\n",
    "    break"
   ]
  },
  {
   "cell_type": "code",
   "execution_count": 15,
   "id": "a9230b45",
   "metadata": {},
   "outputs": [
    {
     "name": "stdout",
     "output_type": "stream",
     "text": [
      "Mahdad Jafarzadeh Esfahani and Amir Hossein Daraie and F. Weber and M. Dresler\n",
      "Dreamento: an open-source dream engineering toolbox for sleep EEG wearables.\n",
      "We introduce Dreamento (Dream engineering toolbox), an open-source Python package for dream engineering using sleep electroencephalography (EEG) wearables. Dreamento main functions are (1) real-time recording, monitoring, analysis, and sensory stimulation, and (2) ofﬂine post-processing of the resulting data, both in a graphical user interface (GUI). In real-time, Dreamento is capable of (1) data recording, visualization, and navigation, (2) power-spectrum analysis, (3) automatic sleep scoring, (4) sensory stimulation (visual, auditory, tactile), (5) establishing text-to-speech communication, and (6) managing annotations of automatic and manual events. The ofﬂine functions aid in post-processing the acquired data with features to reformat the wearable data and integrate it with non-wearable recorded modalities such as electromyography (EMG). While Dreamento was primarily developed for (lucid) dreaming studies, its applications can be extended to other areas of sleep research such as closed-loop auditory stimulation and targeted memory reactivation.\n"
     ]
    }
   ],
   "source": [
    "sent1=' and '.join([item['name'] for item in x['authors']])\n",
    "print(sent1)\n",
    "sent2=x['title']+'.'+'\\n'+x['abstract']\n",
    "print(sent2)"
   ]
  },
  {
   "cell_type": "code",
   "execution_count": 5,
   "id": "64318824",
   "metadata": {},
   "outputs": [],
   "source": [
    "from transformers import AutoTokenizer\n",
    "tokenizer = AutoTokenizer.from_pretrained('sentence-transformers/all-MiniLM-L6-v2')"
   ]
  },
  {
   "cell_type": "code",
   "execution_count": 17,
   "id": "600d2419",
   "metadata": {},
   "outputs": [],
   "source": [
    "_input=tokenizer.encode_plus(\n",
    "            sent1,\n",
    "            sent2,\n",
    "            add_special_tokens=True,\n",
    "            max_length=512,\n",
    "            padding='max_length',\n",
    "            return_token_type_ids=True,\n",
    "            truncation=True,\n",
    "        )"
   ]
  },
  {
   "cell_type": "code",
   "execution_count": 18,
   "id": "6ca93d82",
   "metadata": {},
   "outputs": [
    {
     "name": "stdout",
     "output_type": "stream",
     "text": [
      "{'input_ids': [101, 5003, 14945, 4215, 14855, 14971, 4143, 25383, 9686, 28975, 2072, 1998, 18904, 7570, 11393, 2378, 18243, 4886, 2063, 1998, 1042, 1012, 13351, 1998, 1049, 1012, 2852, 2229, 3917, 102, 3959, 4765, 2080, 1024, 2019, 2330, 1011, 3120, 3959, 3330, 6994, 8758, 2005, 3637, 25212, 2290, 4929, 3085, 2015, 1012, 2057, 8970, 3959, 4765, 2080, 1006, 3959, 3330, 6994, 8758, 1007, 1010, 2019, 2330, 1011, 3120, 18750, 7427, 2005, 3959, 3330, 2478, 3637, 16175, 10127, 21890, 21197, 26228, 1006, 25212, 2290, 1007, 4929, 3085, 2015, 1012, 3959, 4765, 2080, 2364, 4972, 2024, 1006, 1015, 1007, 2613, 1011, 2051, 3405, 1010, 8822, 1010, 4106, 1010, 1998, 16792, 20858, 1010, 1998, 1006, 1016, 1007, 1997, 30511, 3170, 2695, 1011, 6364, 1997, 1996, 4525, 2951, 1010, 2119, 1999, 1037, 20477, 5310, 8278, 1006, 26458, 1007, 1012, 1999, 2613, 1011, 2051, 1010, 3959, 4765, 2080, 2003, 5214, 1997, 1006, 1015, 1007, 2951, 3405, 1010, 5107, 3989, 1010, 1998, 9163, 1010, 1006, 1016, 1007, 2373, 1011, 8674, 4106, 1010, 1006, 1017, 1007, 6882, 3637, 4577, 1010, 1006, 1018, 1007, 16792, 20858, 1006, 5107, 1010, 28042, 1010, 11937, 6593, 9463, 1007, 1010, 1006, 1019, 1007, 7411, 3793, 1011, 2000, 1011, 4613, 4807, 1010, 1998, 1006, 1020, 1007, 6605, 5754, 17287, 9285, 1997, 6882, 1998, 6410, 2824, 1012, 1996, 1997, 30511, 3170, 4972, 4681, 1999, 2695, 1011, 6364, 1996, 3734, 2951, 2007, 2838, 2000, 5290, 4017, 1996, 4929, 3085, 2951, 1998, 17409, 2009, 2007, 2512, 1011, 4929, 3085, 2680, 16913, 11475, 7368, 2107, 2004, 16175, 8029, 9888, 1006, 7861, 2290, 1007, 1012, 2096, 3959, 4765, 2080, 2001, 3952, 2764, 2005, 1006, 12776, 3593, 1007, 12802, 2913, 1010, 2049, 5097, 2064, 2022, 3668, 2000, 2060, 2752, 1997, 3637, 2470, 2107, 2004, 2701, 1011, 7077, 28042, 20858, 1998, 9416, 3638, 10509, 25761, 1012, 102, 0, 0, 0, 0, 0, 0, 0, 0, 0, 0, 0, 0, 0, 0, 0, 0, 0, 0, 0, 0, 0, 0, 0, 0, 0, 0, 0, 0, 0, 0, 0, 0, 0, 0, 0, 0, 0, 0, 0, 0, 0, 0, 0, 0, 0, 0, 0, 0, 0, 0, 0, 0, 0, 0, 0, 0, 0, 0, 0, 0, 0, 0, 0, 0, 0, 0, 0, 0, 0, 0, 0, 0, 0, 0, 0, 0, 0, 0, 0, 0, 0, 0, 0, 0, 0, 0, 0, 0, 0, 0, 0, 0, 0, 0, 0, 0, 0, 0, 0, 0, 0, 0, 0, 0, 0, 0, 0, 0, 0, 0, 0, 0, 0, 0, 0, 0, 0, 0, 0, 0, 0, 0, 0, 0, 0, 0, 0, 0, 0, 0, 0, 0, 0, 0, 0, 0, 0, 0, 0, 0, 0, 0, 0, 0, 0, 0, 0, 0, 0, 0, 0, 0, 0, 0, 0, 0, 0, 0, 0, 0, 0, 0, 0, 0, 0, 0, 0, 0, 0, 0, 0, 0, 0, 0, 0, 0, 0, 0, 0, 0, 0, 0, 0, 0, 0, 0, 0, 0, 0, 0, 0, 0, 0, 0, 0, 0, 0, 0, 0, 0, 0, 0, 0, 0, 0, 0, 0, 0, 0, 0, 0, 0, 0, 0, 0, 0, 0], 'token_type_ids': [0, 0, 0, 0, 0, 0, 0, 0, 0, 0, 0, 0, 0, 0, 0, 0, 0, 0, 0, 0, 0, 0, 0, 0, 0, 0, 0, 0, 0, 0, 1, 1, 1, 1, 1, 1, 1, 1, 1, 1, 1, 1, 1, 1, 1, 1, 1, 1, 1, 1, 1, 1, 1, 1, 1, 1, 1, 1, 1, 1, 1, 1, 1, 1, 1, 1, 1, 1, 1, 1, 1, 1, 1, 1, 1, 1, 1, 1, 1, 1, 1, 1, 1, 1, 1, 1, 1, 1, 1, 1, 1, 1, 1, 1, 1, 1, 1, 1, 1, 1, 1, 1, 1, 1, 1, 1, 1, 1, 1, 1, 1, 1, 1, 1, 1, 1, 1, 1, 1, 1, 1, 1, 1, 1, 1, 1, 1, 1, 1, 1, 1, 1, 1, 1, 1, 1, 1, 1, 1, 1, 1, 1, 1, 1, 1, 1, 1, 1, 1, 1, 1, 1, 1, 1, 1, 1, 1, 1, 1, 1, 1, 1, 1, 1, 1, 1, 1, 1, 1, 1, 1, 1, 1, 1, 1, 1, 1, 1, 1, 1, 1, 1, 1, 1, 1, 1, 1, 1, 1, 1, 1, 1, 1, 1, 1, 1, 1, 1, 1, 1, 1, 1, 1, 1, 1, 1, 1, 1, 1, 1, 1, 1, 1, 1, 1, 1, 1, 1, 1, 1, 1, 1, 1, 1, 1, 1, 1, 1, 1, 1, 1, 1, 1, 1, 1, 1, 1, 1, 1, 1, 1, 1, 1, 1, 1, 1, 1, 1, 1, 1, 1, 1, 1, 1, 1, 1, 1, 1, 1, 1, 1, 1, 1, 1, 1, 1, 1, 1, 1, 1, 1, 1, 1, 1, 1, 1, 1, 1, 1, 1, 1, 1, 1, 1, 1, 1, 1, 1, 1, 1, 1, 1, 1, 1, 1, 0, 0, 0, 0, 0, 0, 0, 0, 0, 0, 0, 0, 0, 0, 0, 0, 0, 0, 0, 0, 0, 0, 0, 0, 0, 0, 0, 0, 0, 0, 0, 0, 0, 0, 0, 0, 0, 0, 0, 0, 0, 0, 0, 0, 0, 0, 0, 0, 0, 0, 0, 0, 0, 0, 0, 0, 0, 0, 0, 0, 0, 0, 0, 0, 0, 0, 0, 0, 0, 0, 0, 0, 0, 0, 0, 0, 0, 0, 0, 0, 0, 0, 0, 0, 0, 0, 0, 0, 0, 0, 0, 0, 0, 0, 0, 0, 0, 0, 0, 0, 0, 0, 0, 0, 0, 0, 0, 0, 0, 0, 0, 0, 0, 0, 0, 0, 0, 0, 0, 0, 0, 0, 0, 0, 0, 0, 0, 0, 0, 0, 0, 0, 0, 0, 0, 0, 0, 0, 0, 0, 0, 0, 0, 0, 0, 0, 0, 0, 0, 0, 0, 0, 0, 0, 0, 0, 0, 0, 0, 0, 0, 0, 0, 0, 0, 0, 0, 0, 0, 0, 0, 0, 0, 0, 0, 0, 0, 0, 0, 0, 0, 0, 0, 0, 0, 0, 0, 0, 0, 0, 0, 0, 0, 0, 0, 0, 0, 0, 0, 0, 0, 0, 0, 0, 0, 0, 0, 0, 0, 0, 0, 0, 0, 0, 0, 0, 0], 'attention_mask': [1, 1, 1, 1, 1, 1, 1, 1, 1, 1, 1, 1, 1, 1, 1, 1, 1, 1, 1, 1, 1, 1, 1, 1, 1, 1, 1, 1, 1, 1, 1, 1, 1, 1, 1, 1, 1, 1, 1, 1, 1, 1, 1, 1, 1, 1, 1, 1, 1, 1, 1, 1, 1, 1, 1, 1, 1, 1, 1, 1, 1, 1, 1, 1, 1, 1, 1, 1, 1, 1, 1, 1, 1, 1, 1, 1, 1, 1, 1, 1, 1, 1, 1, 1, 1, 1, 1, 1, 1, 1, 1, 1, 1, 1, 1, 1, 1, 1, 1, 1, 1, 1, 1, 1, 1, 1, 1, 1, 1, 1, 1, 1, 1, 1, 1, 1, 1, 1, 1, 1, 1, 1, 1, 1, 1, 1, 1, 1, 1, 1, 1, 1, 1, 1, 1, 1, 1, 1, 1, 1, 1, 1, 1, 1, 1, 1, 1, 1, 1, 1, 1, 1, 1, 1, 1, 1, 1, 1, 1, 1, 1, 1, 1, 1, 1, 1, 1, 1, 1, 1, 1, 1, 1, 1, 1, 1, 1, 1, 1, 1, 1, 1, 1, 1, 1, 1, 1, 1, 1, 1, 1, 1, 1, 1, 1, 1, 1, 1, 1, 1, 1, 1, 1, 1, 1, 1, 1, 1, 1, 1, 1, 1, 1, 1, 1, 1, 1, 1, 1, 1, 1, 1, 1, 1, 1, 1, 1, 1, 1, 1, 1, 1, 1, 1, 1, 1, 1, 1, 1, 1, 1, 1, 1, 1, 1, 1, 1, 1, 1, 1, 1, 1, 1, 1, 1, 1, 1, 1, 1, 1, 1, 1, 1, 1, 1, 1, 1, 1, 1, 1, 1, 1, 1, 1, 1, 1, 1, 1, 1, 1, 1, 1, 1, 1, 1, 1, 1, 1, 1, 1, 1, 1, 1, 1, 1, 0, 0, 0, 0, 0, 0, 0, 0, 0, 0, 0, 0, 0, 0, 0, 0, 0, 0, 0, 0, 0, 0, 0, 0, 0, 0, 0, 0, 0, 0, 0, 0, 0, 0, 0, 0, 0, 0, 0, 0, 0, 0, 0, 0, 0, 0, 0, 0, 0, 0, 0, 0, 0, 0, 0, 0, 0, 0, 0, 0, 0, 0, 0, 0, 0, 0, 0, 0, 0, 0, 0, 0, 0, 0, 0, 0, 0, 0, 0, 0, 0, 0, 0, 0, 0, 0, 0, 0, 0, 0, 0, 0, 0, 0, 0, 0, 0, 0, 0, 0, 0, 0, 0, 0, 0, 0, 0, 0, 0, 0, 0, 0, 0, 0, 0, 0, 0, 0, 0, 0, 0, 0, 0, 0, 0, 0, 0, 0, 0, 0, 0, 0, 0, 0, 0, 0, 0, 0, 0, 0, 0, 0, 0, 0, 0, 0, 0, 0, 0, 0, 0, 0, 0, 0, 0, 0, 0, 0, 0, 0, 0, 0, 0, 0, 0, 0, 0, 0, 0, 0, 0, 0, 0, 0, 0, 0, 0, 0, 0, 0, 0, 0, 0, 0, 0, 0, 0, 0, 0, 0, 0, 0, 0, 0, 0, 0, 0, 0, 0, 0, 0, 0, 0, 0, 0, 0, 0, 0, 0, 0, 0, 0, 0, 0, 0, 0, 0]}\n"
     ]
    }
   ],
   "source": [
    "print(_input)"
   ]
  },
  {
   "cell_type": "code",
   "execution_count": 19,
   "id": "49e23cb9",
   "metadata": {},
   "outputs": [
    {
     "name": "stdout",
     "output_type": "stream",
     "text": [
      "512\n"
     ]
    }
   ],
   "source": [
    "print(len(_input['input_ids']))"
   ]
  },
  {
   "cell_type": "code",
   "execution_count": null,
   "id": "4a325cce",
   "metadata": {},
   "outputs": [],
   "source": []
  }
 ],
 "metadata": {
  "kernelspec": {
   "display_name": "Python 3 (ipykernel)",
   "language": "python",
   "name": "python3"
  },
  "language_info": {
   "codemirror_mode": {
    "name": "ipython",
    "version": 3
   },
   "file_extension": ".py",
   "mimetype": "text/x-python",
   "name": "python",
   "nbconvert_exporter": "python",
   "pygments_lexer": "ipython3",
   "version": "3.8.16"
  }
 },
 "nbformat": 4,
 "nbformat_minor": 5
}
