{
 "cells": [
  {
   "cell_type": "code",
   "execution_count": 1,
   "id": "9feb6a92",
   "metadata": {},
   "outputs": [],
   "source": [
    "import torch\n",
    "import argparse\n",
    "import time\n",
    "import math\n",
    "import os, sys\n",
    "import itertools\n",
    "import pickle\n",
    "from tqdm import tqdm\n",
    "import numpy as np\n",
    "import os.path as osp"
   ]
  },
  {
   "cell_type": "code",
   "execution_count": 2,
   "id": "edbb7b9c",
   "metadata": {},
   "outputs": [
    {
     "data": {
      "text/plain": [
       "1"
      ]
     },
     "execution_count": 2,
     "metadata": {},
     "output_type": "execute_result"
    }
   ],
   "source": [
    "torch.cuda.device_count()"
   ]
  },
  {
   "cell_type": "code",
   "execution_count": 3,
   "id": "ae9383cd",
   "metadata": {},
   "outputs": [],
   "source": [
    "def loadpkl(path):\n",
    "    with open(path, 'rb') as f:\n",
    "        rst=pickle.load(f)\n",
    "    return rst"
   ]
  },
  {
   "cell_type": "code",
   "execution_count": 4,
   "id": "fa84986f",
   "metadata": {},
   "outputs": [],
   "source": [
    "path=\"/share/data/mei-work/kangrui/github/ssref/data/refsum-data/arxiv-aiml/full_data_no_embed.pkl\"\n",
    "full_data=loadpkl(path)"
   ]
  },
  {
   "cell_type": "code",
   "execution_count": 9,
   "id": "eb20c825",
   "metadata": {},
   "outputs": [
    {
     "name": "stdout",
     "output_type": "stream",
     "text": [
      "{'paperId': '5fd27a206360395fe1a2c883d3f3e372e8c31209', 'externalIds': {'ArXiv': '0704.1196', 'DBLP': 'journals/corr/abs-0704-1196', 'MAG': '2951783926', 'DOI': '10.1007/978-3-540-74282-1_27', 'CorpusId': 879}, 'publicationVenue': {'id': '47e4f61e-9b0e-431f-bd17-e534b53c655b', 'name': 'International Conference on Intelligent Computing', 'type': 'conference', 'alternate_names': ['ICIC', 'Int Conf Ind Instrum Control', 'Int Conf Intell Comput', 'International Conference on Industrial Instrumentation and Control'], 'url': 'http://www.wikicfp.com/cfp/program?id=1382'}, 'url': 'https://www.semanticscholar.org/paper/5fd27a206360395fe1a2c883d3f3e372e8c31209', 'title': 'Novel Algorithm to Calculate Hypervolume Indicator of Pareto Approximation Set', 'abstract': None, 'venue': 'International Conference on Intelligent Computing', 'year': 2007, 'referenceCount': 13, 'citationCount': 28, 'influentialCitationCount': 1, 'isOpenAccess': True, 'fieldsOfStudy': ['Computer Science', 'Mathematics'], 'publicationTypes': ['JournalArticle'], 'publicationDate': '2007-04-10', 'journal': {'pages': '235-244'}, 'citationStyles': {'bibtex': \"@['JournalArticle']{Yang2007NovelAT,\\n author = {Qing Yang and Shengchao Ding},\\n booktitle = {International Conference on Intelligent Computing},\\n pages = {235-244},\\n title = {Novel Algorithm to Calculate Hypervolume Indicator of Pareto Approximation Set},\\n year = {2007}\\n}\\n\"}, 'authors': [{'authorId': '2149536821', 'name': 'Qing Yang'}, {'authorId': '33713842', 'name': 'Shengchao Ding'}], 'references': [{'paperId': 'f003c4bc3974ee6e14f7fe891ab696667b42d192', 'title': \"S-Metric Calculation by Considering Dominated Hypervolume as Klee's Measure Problem\"}, {'paperId': 'ae4c3d6d5959b13a78a9027b0bf7a03495e6a05b', 'title': 'The Hypervolume Indicator Revisited: On the Design of Pareto-compliant Indicators Via Weighted Integration'}, {'paperId': 'd3f6adedc2bdf9547cdfa4a858920d262af4dac4', 'title': 'An Improved Dimension-Sweep Algorithm for the Hypervolume Indicator'}, {'paperId': 'eed426bf6ced711b05376f36a8348e9953037dff', 'title': 'A faster algorithm for calculating hypervolume'}, {'paperId': 'c2eb91736af884bff23197bb6257e08179585caa', 'title': 'Heuristics for optimizing the calculation of hypervolume for multi-objective optimization problems'}, {'paperId': '13ed6fe0c58cd7de2bfd026ac7a802d55c42a0cd', 'title': 'The Measure of Pareto Optima'}, {'paperId': 'e839b9802348606a71a35b6354c6d9def58d7d49', 'title': 'Performance assessment of multiobjective optimizers: an analysis and review'}, {'paperId': 'd2e2a4f8e64aeb9405f647e69218933d2ec97645', 'title': 'The measure of pareto optima: Applications to multi-objective metaheuristics'}, {'paperId': 'e3fd3c06b87ba2f764c65a5b4790d3b22e62b976', 'title': 'Multiobjective evolutionary algorithms: a comparative case study and the strength Pareto approach'}, {'paperId': 'c8e964060a87848f3702d5342584a4c3be1c938a', 'title': 'Multiobjective Optimization Using Evolutionary Algorithms - A Comparative Case Study'}, {'paperId': 'd4a3457a1059292bb66f69aff1918618546eb829', 'title': \"New upper bounds in Klee's measure problem\"}, {'paperId': 'a15ff639152b8d7fb00436ad0b5c5289cf8749bb', 'title': 'Batched Dynamic Solutions to Decomposable Searching Problems'}, {'paperId': '178cc5aeb30e72ca23f7501e38d4df9467404dbc', 'title': 'On the complexity of computing the measure of ∪[ai,bi]'}]}\n"
     ]
    }
   ],
   "source": [
    "for k,v in full_data.items():\n",
    "    print(v)\n",
    "    break"
   ]
  },
  {
   "cell_type": "code",
   "execution_count": 10,
   "id": "5bdf3e3a",
   "metadata": {},
   "outputs": [
    {
     "ename": "KeyError",
     "evalue": "'authors'",
     "output_type": "error",
     "traceback": [
      "\u001b[0;31m---------------------------------------------------------------------------\u001b[0m",
      "\u001b[0;31mKeyError\u001b[0m                                  Traceback (most recent call last)",
      "Cell \u001b[0;32mIn[10], line 5\u001b[0m\n\u001b[1;32m      3\u001b[0m data\u001b[38;5;241m=\u001b[39m{}\n\u001b[1;32m      4\u001b[0m data[\u001b[38;5;124m'\u001b[39m\u001b[38;5;124mpaperId\u001b[39m\u001b[38;5;124m'\u001b[39m]\u001b[38;5;241m=\u001b[39mk\n\u001b[0;32m----> 5\u001b[0m data[\u001b[38;5;124m'\u001b[39m\u001b[38;5;124mauthors\u001b[39m\u001b[38;5;124m'\u001b[39m]\u001b[38;5;241m=\u001b[39m\u001b[43mfull_data\u001b[49m\u001b[43m[\u001b[49m\u001b[38;5;124;43m'\u001b[39;49m\u001b[38;5;124;43mauthors\u001b[39;49m\u001b[38;5;124;43m'\u001b[39;49m\u001b[43m]\u001b[49m\n\u001b[1;32m      6\u001b[0m data[\u001b[38;5;124m'\u001b[39m\u001b[38;5;124mtitle\u001b[39m\u001b[38;5;124m'\u001b[39m]\u001b[38;5;241m=\u001b[39mfull_data[\u001b[38;5;124m'\u001b[39m\u001b[38;5;124mtitle\u001b[39m\u001b[38;5;124m'\u001b[39m]\n\u001b[1;32m      7\u001b[0m data[\u001b[38;5;124m'\u001b[39m\u001b[38;5;124mcitationCount\u001b[39m\u001b[38;5;124m'\u001b[39m]\u001b[38;5;241m=\u001b[39mfull_data[\u001b[38;5;124m'\u001b[39m\u001b[38;5;124mcitationCount\u001b[39m\u001b[38;5;124m'\u001b[39m]\u001b[38;5;241m+\u001b[39m\u001b[38;5;241m1\u001b[39m\n",
      "\u001b[0;31mKeyError\u001b[0m: 'authors'"
     ]
    }
   ],
   "source": [
    "new_full={}\n",
    "id_none=0\n",
    "author_none=0\n",
    "titl_none=0\n",
    "abs_none=0\n",
    "for k,v in full_data.items():\n",
    "    data={}\n",
    "    if k is None:\n",
    "        id_none+=1\n",
    "        continue\n",
    "    \n",
    "    data['paperId']=k\n",
    "    if v['authors'] is None:\n",
    "        v['authors']=[]\n",
    "    data['authors']=v['authors']\n",
    "    data['title']=v['title']\n",
    "    data['citationCount']=v['citationCount']+1\n",
    "    if full_data['abstract'] is not None:\n",
    "        data['abstrct']=v['abstract']\n",
    "    else:\n",
    "        data['abstrct']=\"\"\n",
    "    data['references']=v['references']\n",
    "    new_full[k]=data"
   ]
  },
  {
   "cell_type": "code",
   "execution_count": null,
   "id": "4285163e",
   "metadata": {},
   "outputs": [],
   "source": []
  }
 ],
 "metadata": {
  "kernelspec": {
   "display_name": "Python 3 (ipykernel)",
   "language": "python",
   "name": "python3"
  },
  "language_info": {
   "codemirror_mode": {
    "name": "ipython",
    "version": 3
   },
   "file_extension": ".py",
   "mimetype": "text/x-python",
   "name": "python",
   "nbconvert_exporter": "python",
   "pygments_lexer": "ipython3",
   "version": "3.8.16"
  }
 },
 "nbformat": 4,
 "nbformat_minor": 5
}
