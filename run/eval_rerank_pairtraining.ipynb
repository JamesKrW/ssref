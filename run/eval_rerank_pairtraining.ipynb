{
 "cells": [
  {
   "cell_type": "code",
   "execution_count": 1,
   "id": "1b3b5a60",
   "metadata": {},
   "outputs": [],
   "source": [
    "import torch\n",
    "import argparse\n",
    "import time\n",
    "import math\n",
    "import os, sys\n",
    "import itertools\n",
    "import pickle\n",
    "from tqdm import tqdm\n",
    "import numpy as np\n",
    "import os.path as osp"
   ]
  },
  {
   "cell_type": "code",
   "execution_count": 2,
   "id": "bcd533e1",
   "metadata": {},
   "outputs": [
    {
     "data": {
      "text/plain": [
       "1"
      ]
     },
     "execution_count": 2,
     "metadata": {},
     "output_type": "execute_result"
    }
   ],
   "source": [
    "torch.cuda.device_count()"
   ]
  },
  {
   "cell_type": "code",
   "execution_count": 3,
   "id": "48b1b0b5",
   "metadata": {},
   "outputs": [],
   "source": [
    "def loadpkl(path):\n",
    "    with open(path, 'rb') as f:\n",
    "        rst=pickle.load(f)\n",
    "    return rst"
   ]
  },
  {
   "cell_type": "code",
   "execution_count": 4,
   "id": "3d6ca67e",
   "metadata": {},
   "outputs": [],
   "source": [
    "path=\"/share/data/mei-work/kangrui/github/ssref/data/refsum-data/arxiv-aiml/full_id_abs_title_cite_ref_author.pkl\"\n",
    "full_data=loadpkl(path)"
   ]
  },
  {
   "cell_type": "code",
   "execution_count": 5,
   "id": "84f1f61e",
   "metadata": {},
   "outputs": [],
   "source": [
    "path=\"/share/data/mei-work/kangrui/github/ssref/result/pretrained_pair_sbert/f1_result/eval_test_gold.pkl\"\n",
    "gold_set=loadpkl(path)"
   ]
  },
  {
   "cell_type": "code",
   "execution_count": 6,
   "id": "625c1d1e",
   "metadata": {},
   "outputs": [],
   "source": [
    "path=\"/share/data/mei-work/kangrui/github/ssref/result/pretrained_pair_sbert/f1_result/eval_test_pred_1000.pkl\"\n",
    "pred_set=loadpkl(path)"
   ]
  },
  {
   "cell_type": "code",
   "execution_count": 7,
   "id": "9c3baa6d",
   "metadata": {},
   "outputs": [],
   "source": [
    "candidate_set={}\n",
    "candidate_ref_set={}\n",
    "for k,v in pred_set.items():\n",
    "    cur=set()\n",
    "    for paper in v[:200]:\n",
    "        cur.add(paper)\n",
    "        refset=set()\n",
    "        for ref in full_data[paper][\"references\"]:\n",
    "            cur.add(ref)\n",
    "            refset.add(ref)\n",
    "        candidate_ref_set[paper]=refset\n",
    "    candidate_set[k]=list(cur)"
   ]
  },
  {
   "cell_type": "code",
   "execution_count": 8,
   "id": "3fe9f161",
   "metadata": {},
   "outputs": [
    {
     "name": "stdout",
     "output_type": "stream",
     "text": [
      "9359\n"
     ]
    }
   ],
   "source": [
    "maxlen=0\n",
    "for k,v in candidate_set.items():\n",
    "    if len(v)>maxlen:\n",
    "        maxlen=len(v)\n",
    "print(maxlen)"
   ]
  },
  {
   "cell_type": "code",
   "execution_count": 9,
   "id": "fc4191b4",
   "metadata": {},
   "outputs": [],
   "source": [
    "def load_network(model,path,device):\n",
    "    loaded_net = torch.load(\n",
    "        path,\n",
    "        map_location=torch.device(self.device),\n",
    "    )\n",
    "    model.load_state_dict(loaded_net, strict=True)\n",
    "    return model"
   ]
  },
  {
   "cell_type": "code",
   "execution_count": 12,
   "id": "c905942d",
   "metadata": {},
   "outputs": [],
   "source": [
    "from transformers import AutoModelForSequenceClassification, AutoTokenizer,AutoModel\n",
    "from torch import nn"
   ]
  },
  {
   "cell_type": "code",
   "execution_count": 13,
   "id": "aba7fa0d",
   "metadata": {},
   "outputs": [],
   "source": [
    "class Mymodel(nn.Module):\n",
    "    #self supervised learning sbert\n",
    "    def __init__(self, model_name):\n",
    "        super().__init__()\n",
    "        self.cross_encoder =  AutoModelForSequenceClassification.from_pretrained(model_name)\n",
    "        self.cross_encoder.gradient_checkpointing_enable()\n",
    "       \n",
    "    def forward(self, input,mode=None):\n",
    "        output=self.cross_encoder(**input)\n",
    "        return output"
   ]
  },
  {
   "cell_type": "code",
   "execution_count": null,
   "id": "0cb832a6",
   "metadata": {},
   "outputs": [],
   "source": [
    "model = Mymodel(cfg)"
   ]
  }
 ],
 "metadata": {
  "kernelspec": {
   "display_name": "Python 3 (ipykernel)",
   "language": "python",
   "name": "python3"
  },
  "language_info": {
   "codemirror_mode": {
    "name": "ipython",
    "version": 3
   },
   "file_extension": ".py",
   "mimetype": "text/x-python",
   "name": "python",
   "nbconvert_exporter": "python",
   "pygments_lexer": "ipython3",
   "version": "3.8.16"
  }
 },
 "nbformat": 4,
 "nbformat_minor": 5
}
