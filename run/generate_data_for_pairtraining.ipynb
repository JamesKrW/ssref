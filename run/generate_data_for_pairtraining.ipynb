{
 "cells": [
  {
   "cell_type": "code",
   "execution_count": 1,
   "id": "7d3a01c2",
   "metadata": {},
   "outputs": [],
   "source": [
    "import torch\n",
    "import argparse\n",
    "import time\n",
    "import math\n",
    "import os, sys\n",
    "import itertools\n",
    "import pickle\n",
    "from tqdm import tqdm\n",
    "import numpy as np\n",
    "import os.path as osp\n",
    "import numpy as np"
   ]
  },
  {
   "cell_type": "code",
   "execution_count": 2,
   "id": "1802e934",
   "metadata": {},
   "outputs": [
    {
     "data": {
      "text/plain": [
       "1"
      ]
     },
     "execution_count": 2,
     "metadata": {},
     "output_type": "execute_result"
    }
   ],
   "source": [
    "torch.cuda.device_count()"
   ]
  },
  {
   "cell_type": "code",
   "execution_count": 3,
   "id": "b0d16a77",
   "metadata": {},
   "outputs": [],
   "source": [
    "def loadpkl(path):\n",
    "    with open(path, 'rb') as f:\n",
    "        rst=pickle.load(f)\n",
    "    return rst\n",
    "def dumppkl(data,path):\n",
    "    with open(path,'wb') as f:\n",
    "        pickle.dump(data,f)"
   ]
  },
  {
   "cell_type": "code",
   "execution_count": 4,
   "id": "7abbd962",
   "metadata": {},
   "outputs": [],
   "source": [
    "path=\"/share/data/mei-work/kangrui/github/ssref/data/refsum-data/arxiv-aiml/full_id_abs_title_cite_ref_author.pkl\"\n",
    "full_data=loadpkl(path)"
   ]
  },
  {
   "cell_type": "code",
   "execution_count": 5,
   "id": "d76498d5",
   "metadata": {},
   "outputs": [],
   "source": [
    "path=\"/share/data/mei-work/kangrui/github/ssref/result/pretrained_pair_sbert/f1_result/eval_train_pred_1000.pkl\"\n",
    "train_top_1000=loadpkl(path)"
   ]
  },
  {
   "cell_type": "code",
   "execution_count": 6,
   "id": "165f3a73",
   "metadata": {},
   "outputs": [],
   "source": [
    "pos_pair=[]\n",
    "neg_pair=[]\n",
    "for k,v in train_top_1000.items():\n",
    "    if k not in full_data.keys():\n",
    "        continue\n",
    "    for paper in v[:500]:\n",
    "        if paper not in full_data.keys():\n",
    "            continue\n",
    "        if paper in full_data[k][\"references\"]:\n",
    "            pos_pair.append((k,paper))\n",
    "        else:\n",
    "            neg_pair.append((k,paper))\n",
    "            "
   ]
  },
  {
   "cell_type": "code",
   "execution_count": 7,
   "id": "e95cc974",
   "metadata": {},
   "outputs": [
    {
     "name": "stdout",
     "output_type": "stream",
     "text": [
      "95099\n",
      "4265401\n"
     ]
    }
   ],
   "source": [
    "print(len(pos_pair))\n",
    "print(len(neg_pair))"
   ]
  },
  {
   "cell_type": "code",
   "execution_count": 8,
   "id": "23590ffb",
   "metadata": {},
   "outputs": [],
   "source": [
    "neg_pair=list(set(neg_pair))"
   ]
  },
  {
   "cell_type": "code",
   "execution_count": 9,
   "id": "0014a084",
   "metadata": {},
   "outputs": [
    {
     "name": "stdout",
     "output_type": "stream",
     "text": [
      "5288766\n"
     ]
    }
   ],
   "source": [
    "path=\"/share/data/mei-work/kangrui/github/ssref/data/refsum-data/arxiv-aiml/train_cite_pair.pkl\"\n",
    "train_cite_norm=loadpkl(path)\n",
    "print(len(train_cite_norm))"
   ]
  },
  {
   "cell_type": "code",
   "execution_count": 10,
   "id": "4100a3c1",
   "metadata": {},
   "outputs": [],
   "source": [
    "pair_training=[]\n",
    "for pair in neg_pair:\n",
    "    data={}\n",
    "    data['query']=pair[0]\n",
    "    data['key']=pair[1]\n",
    "    data['label']=0\n",
    "    pair_training.append(data)\n",
    "for pair in train_cite_norm:\n",
    "    data={}\n",
    "    data['query']=pair[0]\n",
    "    data['key']=pair[1]\n",
    "    data['label']=1\n",
    "    pair_training.append(data)\n"
   ]
  },
  {
   "cell_type": "code",
   "execution_count": 11,
   "id": "71ceee71",
   "metadata": {},
   "outputs": [],
   "source": [
    "path=\"/share/data/mei-work/kangrui/github/ssref/data/refsum-data/arxiv-aiml/train_cite_pair_label.pkl\"\n",
    "dumppkl(pair_training,path)"
   ]
  },
  {
   "cell_type": "code",
   "execution_count": 12,
   "id": "d1fbbf07",
   "metadata": {},
   "outputs": [
    {
     "name": "stdout",
     "output_type": "stream",
     "text": [
      "9554167\n"
     ]
    }
   ],
   "source": [
    "print(len(pair_training))"
   ]
  },
  {
   "cell_type": "code",
   "execution_count": 13,
   "id": "9ba371e4",
   "metadata": {},
   "outputs": [],
   "source": [
    "path=\"/share/data/mei-work/kangrui/github/ssref/result/pretrained_pair_sbert/f1_result/eval_dev_pred_1000.pkl\"\n",
    "dev_pred_1000=loadpkl(path)"
   ]
  },
  {
   "cell_type": "code",
   "execution_count": 14,
   "id": "9772bf4d",
   "metadata": {},
   "outputs": [],
   "source": [
    "path=\"/share/data/mei-work/kangrui/github/ssref/result/pretrained_pair_sbert/f1_result/eval_dev_gold.pkl\"\n",
    "dev_gold=loadpkl(path)"
   ]
  },
  {
   "cell_type": "code",
   "execution_count": 15,
   "id": "2a5d4ecd",
   "metadata": {},
   "outputs": [],
   "source": [
    "pos_pair=[]\n",
    "for k,v in dev_gold.items():\n",
    "    if k not in full_data.keys():\n",
    "        continue\n",
    "    for paper in v:\n",
    "        if paper not in full_data.keys():\n",
    "            continue\n",
    "        if paper in full_data[k][\"references\"]:\n",
    "            pos_pair.append((k,paper))\n",
    "       \n",
    "            "
   ]
  },
  {
   "cell_type": "code",
   "execution_count": 16,
   "id": "400716b5",
   "metadata": {},
   "outputs": [],
   "source": [
    "neg_pair=[]\n",
    "for k,v in dev_pred_1000.items():\n",
    "    if k not in full_data.keys():\n",
    "        continue\n",
    "    for paper in v[:500]:\n",
    "        if paper not in full_data.keys():\n",
    "            continue\n",
    "        if paper in full_data[k][\"references\"]:\n",
    "            continue\n",
    "        else:\n",
    "            neg_pair.append((k,paper))\n",
    "            "
   ]
  },
  {
   "cell_type": "code",
   "execution_count": 17,
   "id": "bd223ea6",
   "metadata": {},
   "outputs": [
    {
     "name": "stdout",
     "output_type": "stream",
     "text": [
      "35507\n",
      "429734\n"
     ]
    }
   ],
   "source": [
    "print(len(pos_pair))\n",
    "print(len(neg_pair))"
   ]
  },
  {
   "cell_type": "code",
   "execution_count": 18,
   "id": "40e6fc82",
   "metadata": {},
   "outputs": [],
   "source": [
    "pair_dev=[]\n",
    "for pair in neg_pair:\n",
    "    data={}\n",
    "    data['query']=pair[0]\n",
    "    data['key']=pair[1]\n",
    "    data['label']=0\n",
    "    pair_dev.append(data)\n",
    "for pair in pos_pair:\n",
    "    data={}\n",
    "    data['query']=pair[0]\n",
    "    data['key']=pair[1]\n",
    "    data['label']=1\n",
    "    pair_dev.append(data)"
   ]
  },
  {
   "cell_type": "code",
   "execution_count": 19,
   "id": "84a26028",
   "metadata": {},
   "outputs": [],
   "source": [
    "path=\"/share/data/mei-work/kangrui/github/ssref/data/refsum-data/arxiv-aiml-small/dev_cite_pair_label.pkl\"\n",
    "dumppkl(pair_dev,path)"
   ]
  },
  {
   "cell_type": "code",
   "execution_count": 21,
   "id": "ce6f6d49",
   "metadata": {},
   "outputs": [
    {
     "name": "stdout",
     "output_type": "stream",
     "text": [
      "465241\n",
      "9554167\n"
     ]
    }
   ],
   "source": [
    "print(len(pair_dev))\n",
    "print(len(pair_training))"
   ]
  },
  {
   "cell_type": "code",
   "execution_count": null,
   "id": "7301f695",
   "metadata": {},
   "outputs": [],
   "source": []
  }
 ],
 "metadata": {
  "kernelspec": {
   "display_name": "Python 3 (ipykernel)",
   "language": "python",
   "name": "python3"
  },
  "language_info": {
   "codemirror_mode": {
    "name": "ipython",
    "version": 3
   },
   "file_extension": ".py",
   "mimetype": "text/x-python",
   "name": "python",
   "nbconvert_exporter": "python",
   "pygments_lexer": "ipython3",
   "version": "3.8.16"
  }
 },
 "nbformat": 4,
 "nbformat_minor": 5
}
