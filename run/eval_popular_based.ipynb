{
 "cells": [
  {
   "cell_type": "code",
   "execution_count": 1,
   "id": "ab560797",
   "metadata": {},
   "outputs": [],
   "source": [
    "import torch\n",
    "import argparse\n",
    "import time\n",
    "import math\n",
    "import os, sys\n",
    "import itertools\n",
    "import pickle\n",
    "from tqdm import tqdm\n",
    "import numpy as np\n",
    "import os.path as osp"
   ]
  },
  {
   "cell_type": "code",
   "execution_count": 2,
   "id": "fa3f196f",
   "metadata": {},
   "outputs": [
    {
     "data": {
      "text/plain": [
       "1"
      ]
     },
     "execution_count": 2,
     "metadata": {},
     "output_type": "execute_result"
    }
   ],
   "source": [
    "torch.cuda.device_count()"
   ]
  },
  {
   "cell_type": "code",
   "execution_count": 3,
   "id": "d61df489",
   "metadata": {},
   "outputs": [],
   "source": [
    "def loadpkl(path):\n",
    "    with open(path, 'rb') as f:\n",
    "        rst=pickle.load(f)\n",
    "    return rst"
   ]
  },
  {
   "cell_type": "code",
   "execution_count": 4,
   "id": "7b7638c0",
   "metadata": {},
   "outputs": [],
   "source": [
    "path=\"/share/data/mei-work/kangrui/github/ssref/data/refsum-data/arxiv-aiml/full_data_no_embed.pkl\"\n",
    "full_data=loadpkl(path)"
   ]
  },
  {
   "cell_type": "code",
   "execution_count": 5,
   "id": "549a29ea",
   "metadata": {},
   "outputs": [],
   "source": [
    "path=\"/share/data/mei-work/kangrui/github/ssref/result/pretrained_pair_sbert/test_result/eval_key_id2embed.pkl\"\n",
    "key_embedding=loadpkl(path)"
   ]
  },
  {
   "cell_type": "code",
   "execution_count": 6,
   "id": "49b81131",
   "metadata": {},
   "outputs": [],
   "source": [
    "path=\"/share/data/mei-work/kangrui/github/ssref/result/pretrained_pair_sbert/f1_result/eval_dev_pred_1000.pkl\"\n",
    "pred_set=loadpkl(path)"
   ]
  },
  {
   "cell_type": "code",
   "execution_count": 7,
   "id": "a9c413d8",
   "metadata": {},
   "outputs": [],
   "source": [
    "path=\"/share/data/mei-work/kangrui/github/ssref/result/pretrained_pair_sbert/f1_result/eval_dev_gold.pkl\"\n",
    "gold_set=loadpkl(path)"
   ]
  },
  {
   "cell_type": "code",
   "execution_count": 8,
   "id": "ea9ceb70",
   "metadata": {},
   "outputs": [],
   "source": [
    "query_id2embedding=key_embedding\n",
    "key_id2embedding=key_embedding"
   ]
  },
  {
   "cell_type": "code",
   "execution_count": 10,
   "id": "d6bb5e48",
   "metadata": {},
   "outputs": [],
   "source": [
    "candidate_set={}\n",
    "candidate_ref_set={}\n",
    "for k,v in pred_set.items():\n",
    "    cur=set()\n",
    "    for paper in v[:200]:\n",
    "        cur.add(paper)\n",
    "        refset=set()\n",
    "        for ref in full_data[paper][\"references\"]:\n",
    "            cur.add(ref[\"paperId\"])\n",
    "            refset.add(ref[\"paperId\"])\n",
    "        candidate_ref_set[paper]=refset\n",
    "    candidate_set[k]=list(cur)"
   ]
  },
  {
   "cell_type": "code",
   "execution_count": 11,
   "id": "157ee2af",
   "metadata": {},
   "outputs": [
    {
     "name": "stdout",
     "output_type": "stream",
     "text": [
      "133604\n"
     ]
    }
   ],
   "source": [
    "print(len(candidate_ref_set))"
   ]
  },
  {
   "cell_type": "code",
   "execution_count": 23,
   "id": "b9c75a31",
   "metadata": {},
   "outputs": [],
   "source": [
    "def rerank(candidate_set,candidate_ref_set,full_data,rerank_num=None):\n",
    "    query=list(candidate_set.keys())\n",
    "    rerank_candidate={}\n",
    "    if rerank_num is None:\n",
    "        for v in candidate_set.values():\n",
    "            if rerank_num is None or rerank_num>len(v):\n",
    "                rerank_num=len(v)\n",
    "    pbar = tqdm(range(0,len(candidate_set),1), postfix=f\"calculating f1\")\n",
    "    for i in pbar:\n",
    "        query_paper=query[i]\n",
    "        cite_frequency={}\n",
    "        for candidate in candidate_set[query_paper]:\n",
    "            if candidate in candidate_ref_set.keys():\n",
    "                # this is possibly the anchor paper\n",
    "                for ref in list(candidate_ref_set[candidate]):\n",
    "                    # deal with the ref of an anchor paper\n",
    "                    if ref in candidate_set[query_paper]:\n",
    "                        if ref not in cite_frequency.keys():\n",
    "                            cite_frequency[ref]=1\n",
    "                        else:\n",
    "                            cite_frequency[ref]+=1\n",
    "                    else:\n",
    "                        # this is not anchor paper for this query\n",
    "                        break\n",
    "            if candidate not in cite_frequency.keys():\n",
    "                cite_frequency[candidate]=1\n",
    "            else:\n",
    "                cite_frequency[candidate]+=1\n",
    "                \n",
    "        top_k = sorted(cite_frequency.items(), key=lambda x:x[1], reverse=True)\n",
    "        rerank = [k for k,v in top_k[:rerank_num]]\n",
    "        rerank_candidate[query_paper]=rerank\n",
    "    print(\"min rerank num->\",rerank_num)\n",
    "    return rerank_candidate\n",
    "        \n",
    "        \n"
   ]
  },
  {
   "cell_type": "code",
   "execution_count": 24,
   "id": "187a5702",
   "metadata": {},
   "outputs": [
    {
     "name": "stderr",
     "output_type": "stream",
     "text": [
      "100%|█████████████████████████████████████████████████████████████████████████████████████████████████████████████████| 879/879 [03:34<00:00,  4.10it/s, calculating f1]"
     ]
    },
    {
     "name": "stdout",
     "output_type": "stream",
     "text": [
      "min rerank num-> 1510\n"
     ]
    },
    {
     "name": "stderr",
     "output_type": "stream",
     "text": [
      "\n"
     ]
    }
   ],
   "source": [
    "rerank_candidate=rerank(candidate_set,candidate_ref_set,full_data,rerank_num=None)"
   ]
  },
  {
   "cell_type": "code",
   "execution_count": 25,
   "id": "577acb34",
   "metadata": {},
   "outputs": [],
   "source": [
    "sys.path.append(\"/share/data/mei-work/kangrui/github/ssref\")\n",
    "from utils.test_utils import *\n",
    "from utils.utils import *"
   ]
  },
  {
   "cell_type": "code",
   "execution_count": 28,
   "id": "3ad04520",
   "metadata": {},
   "outputs": [],
   "source": [
    "def show_rerank_rst(rerank_candidate,gold_set):\n",
    "    pool_length=len(next(iter(rerank_candidate.values())))\n",
    "    i=2\n",
    "    while 1:\n",
    "        all_pred_topN=[]\n",
    "        all_gold=[]\n",
    "        for query_paper,paperlist in rerank_candidate.items():\n",
    "            topN=paperlist[:i]\n",
    "            all_pred_topN.append(topN)\n",
    "            all_gold.append(gold_set[query_paper])\n",
    "        all_pred_topN=np.array(all_pred_topN)\n",
    "        metric = get_precision_recall_f1(all_pred_topN, all_gold)\n",
    "        print(f\"top{i}:\\n{metric}\")\n",
    "        if i>pool_length:\n",
    "            break\n",
    "        i*=2"
   ]
  },
  {
   "cell_type": "code",
   "execution_count": 29,
   "id": "dac752bb",
   "metadata": {},
   "outputs": [
    {
     "name": "stdout",
     "output_type": "stream",
     "text": [
      "top2:\n",
      "{'precision': 0.2571103526734926, 'recall': 0.012718064153066966, 'f1': 0.024237224516059842, 'true_pos': 452, 'false_pos': 1306, 'false_neg': 35088, 'num_sample': 879}\n",
      "top4:\n",
      "{'precision': 0.2966439135381115, 'recall': 0.02934721440630276, 'f1': 0.05341048750512085, 'true_pos': 1043, 'false_pos': 2473, 'false_neg': 34497, 'num_sample': 879}\n",
      "top8:\n",
      "{'precision': 0.2858361774744027, 'recall': 0.056555993247045584, 'f1': 0.09442826270788313, 'true_pos': 2010, 'false_pos': 5022, 'false_neg': 33530, 'num_sample': 879}\n",
      "top16:\n",
      "{'precision': 0.24360068259385664, 'recall': 0.0963984243106359, 'f1': 0.13813402144988307, 'true_pos': 3426, 'false_pos': 10638, 'false_neg': 32114, 'num_sample': 879}\n",
      "top32:\n",
      "{'precision': 0.19094852104664392, 'recall': 0.15112549240292628, 'f1': 0.16871897970723124, 'true_pos': 5371, 'false_pos': 22757, 'false_neg': 30169, 'num_sample': 879}\n",
      "top64:\n",
      "{'precision': 0.1394517918088737, 'recall': 0.2207371975239167, 'f1': 0.17092248028236523, 'true_pos': 7845, 'false_pos': 48411, 'false_neg': 27695, 'num_sample': 879}\n",
      "top128:\n",
      "{'precision': 0.09551870022753128, 'recall': 0.30239167135621836, 'f1': 0.14517872098992246, 'true_pos': 10747, 'false_pos': 101765, 'false_neg': 24793, 'num_sample': 879}\n",
      "top256:\n",
      "{'precision': 0.06225558162684869, 'recall': 0.3941755768148565, 'f1': 0.10752828479759291, 'true_pos': 14009, 'false_pos': 211015, 'false_neg': 21531, 'num_sample': 879}\n",
      "top512:\n",
      "{'precision': 0.03843590017064846, 'recall': 0.4867191896454699, 'f1': 0.07124558267502491, 'true_pos': 17298, 'false_pos': 432750, 'false_neg': 18242, 'num_sample': 879}\n",
      "top1024:\n",
      "{'precision': 0.022530930034129693, 'recall': 0.5706246482836241, 'f1': 0.04335019174123271, 'true_pos': 20280, 'false_pos': 879816, 'false_neg': 15260, 'num_sample': 879}\n",
      "top2048:\n",
      "{'precision': 0.016220268366370576, 'recall': 0.6057681485649972, 'f1': 0.03159454957698319, 'true_pos': 21529, 'false_pos': 1305761, 'false_neg': 14011, 'num_sample': 879}\n"
     ]
    }
   ],
   "source": [
    "show_rerank_rst(rerank_candidate,gold_set)"
   ]
  },
  {
   "cell_type": "code",
   "execution_count": null,
   "id": "0bc6ea05",
   "metadata": {},
   "outputs": [],
   "source": []
  }
 ],
 "metadata": {
  "kernelspec": {
   "display_name": "Python 3 (ipykernel)",
   "language": "python",
   "name": "python3"
  },
  "language_info": {
   "codemirror_mode": {
    "name": "ipython",
    "version": 3
   },
   "file_extension": ".py",
   "mimetype": "text/x-python",
   "name": "python",
   "nbconvert_exporter": "python",
   "pygments_lexer": "ipython3",
   "version": "3.8.16"
  }
 },
 "nbformat": 4,
 "nbformat_minor": 5
}
