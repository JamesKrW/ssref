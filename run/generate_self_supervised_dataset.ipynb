{
 "cells": [
  {
   "cell_type": "code",
   "execution_count": 1,
   "id": "c1f51e0f",
   "metadata": {},
   "outputs": [],
   "source": [
    "import torch\n",
    "import argparse\n",
    "import time\n",
    "import math\n",
    "import os, sys\n",
    "import itertools\n",
    "import pickle\n",
    "from tqdm import tqdm\n",
    "import numpy as np\n",
    "import os.path as osp"
   ]
  },
  {
   "cell_type": "code",
   "execution_count": 2,
   "id": "70637146",
   "metadata": {},
   "outputs": [
    {
     "data": {
      "text/plain": [
       "1"
      ]
     },
     "execution_count": 2,
     "metadata": {},
     "output_type": "execute_result"
    }
   ],
   "source": [
    "torch.cuda.device_count()"
   ]
  },
  {
   "cell_type": "code",
   "execution_count": 3,
   "id": "52ac2d60",
   "metadata": {},
   "outputs": [],
   "source": [
    "def loadpkl(path):\n",
    "    with open(path, 'rb') as f:\n",
    "        rst=pickle.load(f)\n",
    "    return rst"
   ]
  },
  {
   "cell_type": "code",
   "execution_count": 4,
   "id": "1d4e047b",
   "metadata": {},
   "outputs": [],
   "source": [
    "path=\"/share/data/mei-work/kangrui/github/ssref/data/refsum-data/arxiv-aiml/full_data_no_embed.pkl\"\n",
    "full_data=loadpkl(path)"
   ]
  },
  {
   "cell_type": "code",
   "execution_count": 5,
   "id": "b494b3ff",
   "metadata": {},
   "outputs": [
    {
     "name": "stdout",
     "output_type": "stream",
     "text": [
      "1232\n",
      "109\n",
      "32\n"
     ]
    }
   ],
   "source": [
    "for mode in ['train','dev','test']:\n",
    "    path=f\"/share/data/mei-work/kangrui/github/ssref/data/refsum-data/arxiv-aiml-small/{mode}.pkl\"\n",
    "    train=loadpkl(path)\n",
    "    cnt=0\n",
    "    new_train=[]\n",
    "    for item in train:\n",
    "        if full_data[item][\"abstract\"] is None:\n",
    "            cnt+=1\n",
    "            continue\n",
    "        new_train.append(item)\n",
    "    print(cnt)\n",
    "    path=f\"/share/data/mei-work/kangrui/github/ssref/data/refsum-data/arxiv-aiml-small/{mode}_filtered.pkl\"\n",
    "    with open(path,'wb') as f:\n",
    "        pickle.dump(new_train,f)"
   ]
  },
  {
   "cell_type": "code",
   "execution_count": 10,
   "id": "7631c3a9",
   "metadata": {},
   "outputs": [],
   "source": [
    "def get_recall(pred, gold): \n",
    "    # list of lists of strings \n",
    "    # all_pred : [{'a', 'b'}, {'c', 'd', 'e'}, ...]\n",
    "    # all_gold : [{'a', 'b', 'c'}, {'d', 'e'}, ...]\n",
    "    intersect = pred & gold\n",
    "    true_pos = len(intersect)\n",
    "    false_neg = len(gold) - len(intersect)\n",
    "    r = 1.0 * true_pos / (true_pos + false_neg)\n",
    "    return r"
   ]
  },
  {
   "cell_type": "code",
   "execution_count": 11,
   "id": "176b3b5c",
   "metadata": {},
   "outputs": [],
   "source": [
    "mode=\"dev\"\n",
    "path=f\"/share/data/mei-work/kangrui/github/ssref/result/pretrained_sbert/f1_result/eval_{mode}_gold.pkl\"\n",
    "train_gold=loadpkl(path)\n",
    "path=f\"/share/data/mei-work/kangrui/github/ssref/result/pretrained_sbert/f1_result/eval_{mode}_pred_200.pkl\"\n",
    "train_pred=loadpkl(path)"
   ]
  },
  {
   "cell_type": "code",
   "execution_count": 12,
   "id": "ca5f2c77",
   "metadata": {},
   "outputs": [
    {
     "name": "stdout",
     "output_type": "stream",
     "text": [
      "9946\n",
      "9946\n"
     ]
    }
   ],
   "source": [
    "print(len(train_gold))\n",
    "print(len(train_pred))"
   ]
  },
  {
   "cell_type": "code",
   "execution_count": 13,
   "id": "759dd6b0",
   "metadata": {},
   "outputs": [],
   "source": [
    "device=torch.device('cuda' if torch.cuda.is_available() else 'cpu')"
   ]
  },
  {
   "cell_type": "code",
   "execution_count": 14,
   "id": "7b03462b",
   "metadata": {},
   "outputs": [],
   "source": [
    "training_data=[]\n",
    "for k,v in train_gold.items():\n",
    "    train_dict={}\n",
    "    train_dict['query']=k\n",
    "    if full_data[k][\"abstract\"] is None:\n",
    "        continue\n",
    "    gold=set(v)\n",
    "    recall_list=[]\n",
    "    key=[]\n",
    "    for paperID in train_pred[k]:\n",
    "        key.append(paperID)\n",
    "        pred=[item[\"paperId\"] for item in full_data[paperID][\"references\"]]\n",
    "        pred=set(pred)\n",
    "        recall=get_recall(pred, gold)\n",
    "        recall_list.append(recall)\n",
    "    recall_list=torch.tensor(recall_list)\n",
    "    recall_list.to(device)\n",
    "    recall_list=torch.nn.functional.softmax(recall_list,0).cpu().numpy()\n",
    "    mean=np.mean(recall_list)\n",
    "    std=np.std(recall_list)\n",
    "    recall_list=(recall_list-mean)/(std+1e-6)\n",
    "    train_dict['key']=key\n",
    "    train_dict['recall']=recall_list\n",
    "    training_data.append(train_dict)\n"
   ]
  },
  {
   "cell_type": "code",
   "execution_count": 15,
   "id": "f09febc3",
   "metadata": {},
   "outputs": [
    {
     "name": "stdout",
     "output_type": "stream",
     "text": [
      "8721\n"
     ]
    }
   ],
   "source": [
    "print(len(training_data))"
   ]
  },
  {
   "cell_type": "code",
   "execution_count": 16,
   "id": "1264493b",
   "metadata": {},
   "outputs": [],
   "source": [
    "max_recall_cnt=0\n",
    "y_cnt=0\n",
    "for item in training_data:\n",
    "    y=item['query']\n",
    "    x=np.argmax(item['recall'])\n",
    "    k=item['key'][x]\n",
    "    if full_data[k][\"abstract\"] is None:\n",
    "        max_recall_cnt+=1\n",
    "    if full_data[y][\"abstract\"] is None:\n",
    "        y_cnt+=1\n",
    "    "
   ]
  },
  {
   "cell_type": "code",
   "execution_count": 17,
   "id": "1fa412f6",
   "metadata": {},
   "outputs": [
    {
     "data": {
      "text/plain": [
       "0"
      ]
     },
     "execution_count": 17,
     "metadata": {},
     "output_type": "execute_result"
    }
   ],
   "source": [
    "max_recall_cnt"
   ]
  },
  {
   "cell_type": "code",
   "execution_count": 18,
   "id": "3be6be5d",
   "metadata": {},
   "outputs": [
    {
     "data": {
      "text/plain": [
       "0"
      ]
     },
     "execution_count": 18,
     "metadata": {},
     "output_type": "execute_result"
    }
   ],
   "source": [
    "y_cnt"
   ]
  },
  {
   "cell_type": "code",
   "execution_count": 19,
   "id": "a6a76372",
   "metadata": {},
   "outputs": [],
   "source": [
    "folder=\"/share/data/mei-work/kangrui/github/ssref/data/refsum-data/arxiv-aiml-small\"\n",
    "name=f'{mode}_top200_std.pkl'\n",
    "with open(osp.join(folder,name),'wb') as f:\n",
    "        pickle.dump(training_data,f)\n"
   ]
  },
  {
   "cell_type": "code",
   "execution_count": 27,
   "id": "4a02ef4d",
   "metadata": {},
   "outputs": [],
   "source": [
    "id2txt={}\n",
    "for k,v in train_pred.items():\n",
    "    id2txt[k]=full_data[k]['abstract']\n",
    "    for paperID in v:\n",
    "        id2txt[paperID]=full_data[paperID]['abstract']\n",
    "\n",
    "folder=\"/share/data/mei-work/kangrui/github/ssref/data/refsum-data/arxiv-aiml-small\"\n",
    "name=f'{mode}_top200_id2txt.pkl'\n",
    "with open(osp.join(folder,name),'wb') as f:\n",
    "    pickle.dump(id2txt,f)"
   ]
  },
  {
   "cell_type": "code",
   "execution_count": 28,
   "id": "556ea484",
   "metadata": {},
   "outputs": [
    {
     "name": "stdout",
     "output_type": "stream",
     "text": [
      "542741\n"
     ]
    }
   ],
   "source": [
    "print(len(id2txt))"
   ]
  },
  {
   "cell_type": "code",
   "execution_count": null,
   "id": "ea359a78",
   "metadata": {},
   "outputs": [],
   "source": []
  }
 ],
 "metadata": {
  "kernelspec": {
   "display_name": "Python 3 (ipykernel)",
   "language": "python",
   "name": "python3"
  },
  "language_info": {
   "codemirror_mode": {
    "name": "ipython",
    "version": 3
   },
   "file_extension": ".py",
   "mimetype": "text/x-python",
   "name": "python",
   "nbconvert_exporter": "python",
   "pygments_lexer": "ipython3",
   "version": "3.8.16"
  }
 },
 "nbformat": 4,
 "nbformat_minor": 5
}
