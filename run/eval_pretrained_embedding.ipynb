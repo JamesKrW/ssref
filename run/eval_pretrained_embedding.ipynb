{
 "cells": [
  {
   "cell_type": "code",
   "execution_count": 1,
   "id": "c4857dbc",
   "metadata": {},
   "outputs": [],
   "source": [
    "import torch\n",
    "import argparse\n",
    "import time\n",
    "import math\n",
    "import os, sys\n",
    "import itertools\n",
    "import pickle\n",
    "from tqdm import tqdm\n",
    "import numpy as np\n",
    "import os.path as osp"
   ]
  },
  {
   "cell_type": "code",
   "execution_count": 2,
   "id": "9b614af3",
   "metadata": {},
   "outputs": [
    {
     "data": {
      "text/plain": [
       "1"
      ]
     },
     "execution_count": 2,
     "metadata": {},
     "output_type": "execute_result"
    }
   ],
   "source": [
    "torch.cuda.device_count()"
   ]
  },
  {
   "cell_type": "code",
   "execution_count": 3,
   "id": "2c8eb4f6",
   "metadata": {},
   "outputs": [],
   "source": [
    "def loadpkl(path):\n",
    "    with open(path, 'rb') as f:\n",
    "        rst=pickle.load(f)\n",
    "    return rst"
   ]
  },
  {
   "cell_type": "code",
   "execution_count": 4,
   "id": "15fe8bec",
   "metadata": {},
   "outputs": [],
   "source": [
    "path=\"/share/data/mei-work/kangrui/github/ssref/data/refsum-data/arxiv-aiml/full_id_abs_title_cite_ref_author.pkl\"\n",
    "full_data=loadpkl(path)"
   ]
  },
  {
   "cell_type": "code",
   "execution_count": 42,
   "id": "71a274b1",
   "metadata": {},
   "outputs": [],
   "source": [
    "path=\"/share/data/mei-work/kangrui/github/ssref/result/sentence-transformers_all-MiniLM-L6-v2/2023-04-03T07-59-29/test_result/eval_key_id2embed.pkl\"\n",
    "key_embedding=loadpkl(path)"
   ]
  },
  {
   "cell_type": "code",
   "execution_count": 43,
   "id": "aeefe4e3",
   "metadata": {},
   "outputs": [
    {
     "name": "stdout",
     "output_type": "stream",
     "text": [
      "2037520\n"
     ]
    }
   ],
   "source": [
    "print(len(key_embedding))"
   ]
  },
  {
   "cell_type": "code",
   "execution_count": 44,
   "id": "15c0643f",
   "metadata": {},
   "outputs": [],
   "source": [
    "path=\"/share/data/mei-work/kangrui/github/ssref/result/sentence-transformers_all-MiniLM-L6-v2/2023-04-03T07-59-29/test_result/eval_test_id2embed.pkl\"\n",
    "query_embedding=loadpkl(path)"
   ]
  },
  {
   "cell_type": "code",
   "execution_count": 45,
   "id": "42b18a16",
   "metadata": {},
   "outputs": [
    {
     "name": "stdout",
     "output_type": "stream",
     "text": [
      "968\n"
     ]
    }
   ],
   "source": [
    "print(len(query_embedding))"
   ]
  },
  {
   "cell_type": "code",
   "execution_count": 9,
   "id": "e3fb80f5",
   "metadata": {},
   "outputs": [],
   "source": [
    "path=\"/share/data/mei-work/kangrui/github/ssref/result/pretrained_pair_sbert/f1_result/eval_test_pred_1000.pkl\"\n",
    "pred_set=loadpkl(path)"
   ]
  },
  {
   "cell_type": "code",
   "execution_count": 40,
   "id": "3d9263d4",
   "metadata": {},
   "outputs": [],
   "source": [
    "path=\"/share/data/mei-work/kangrui/github/ssref/result/pretrained_pair_sbert/f1_result/eval_test_gold.pkl\"\n",
    "gold_set=loadpkl(path)"
   ]
  },
  {
   "cell_type": "code",
   "execution_count": 46,
   "id": "33819b43",
   "metadata": {},
   "outputs": [],
   "source": [
    "query_id2embedding=query_embedding\n",
    "key_id2embedding=key_embedding"
   ]
  },
  {
   "cell_type": "code",
   "execution_count": 20,
   "id": "f7f53d55",
   "metadata": {},
   "outputs": [],
   "source": [
    "new_gold={}\n",
    "for k,v in gold_set.items():\n",
    "    newv=[]\n",
    "    for paper in v:\n",
    "        if paper in full_data.keys() and len(full_data[paper]['abstract'])>0:\n",
    "            newv.append(paper)\n",
    "    new_gold[k]=newv"
   ]
  },
  {
   "cell_type": "code",
   "execution_count": 21,
   "id": "51e5bf63",
   "metadata": {},
   "outputs": [],
   "source": [
    "gold_set=new_gold"
   ]
  },
  {
   "cell_type": "code",
   "execution_count": 48,
   "id": "e90463e1",
   "metadata": {},
   "outputs": [
    {
     "name": "stdout",
     "output_type": "stream",
     "text": [
      "5.928945695397566\n"
     ]
    }
   ],
   "source": [
    "score=0\n",
    "total=0\n",
    "for k,v in gold_set.items():\n",
    "    for pid in v:\n",
    "        if k in query_id2embedding.keys() and pid in key_id2embedding.keys():\n",
    "            score+=query_id2embedding[k]@key_id2embedding[pid].T\n",
    "            total+=1\n",
    "print(score/total)"
   ]
  },
  {
   "cell_type": "code",
   "execution_count": 51,
   "id": "88b5144b",
   "metadata": {},
   "outputs": [],
   "source": [
    "candidate_set={}\n",
    "for k,v in pred_set.items():\n",
    "    cur=set()\n",
    "    for paper in v[:200]:\n",
    "        cur.add(paper)\n",
    "        for ref in full_data[paper][\"references\"]:\n",
    "            cur.add(ref)\n",
    "    candidate_set[k]=list(cur)"
   ]
  },
  {
   "cell_type": "code",
   "execution_count": 52,
   "id": "a445d2e1",
   "metadata": {},
   "outputs": [
    {
     "name": "stdout",
     "output_type": "stream",
     "text": [
      "944\n",
      "3837147\n"
     ]
    }
   ],
   "source": [
    "print(len(candidate_set))\n",
    "total_len=0\n",
    "for k,v in candidate_set.items():\n",
    "    total_len+=len(v)\n",
    "print(total_len)"
   ]
  },
  {
   "cell_type": "code",
   "execution_count": 53,
   "id": "3b9e03b0",
   "metadata": {},
   "outputs": [],
   "source": [
    "def rerank(candidate_set,query_id2embedding,key_id2embedding,rerank_num=None,device=None):\n",
    "    cnt=0\n",
    "    total_mean=0\n",
    "    mean_score=0\n",
    "    pbar = tqdm(range(0,len(candidate_set),1), postfix=f\"mean score:{mean_score}\")\n",
    "    query=list(candidate_set.keys())\n",
    "    empty_embed=torch.tensor(np.zeros_like(next(iter(key_id2embedding.values()))))\n",
    "    empty_embed_cnt=0\n",
    "    if rerank_num is None:\n",
    "        for v in candidate_set.values():\n",
    "            if rerank_num is None or rerank_num>len(v):\n",
    "                rerank_num=len(v)\n",
    "                \n",
    "    rerank_candidate={}   \n",
    "    for i in pbar:\n",
    "        query_paper=query[i]\n",
    "        query_embedding=torch.tensor(query_id2embedding[query_paper]).unsqueeze(0)\n",
    "        key_embedding=[]\n",
    "        for paper in candidate_set[query_paper]:\n",
    "            try:\n",
    "                key_embedding.append(torch.tensor(key_id2embedding[paper]))\n",
    "            except:\n",
    "                key_embedding.append(empty_embed)\n",
    "                empty_embed_cnt+=1\n",
    "        \n",
    "        key_embedding=torch.stack(key_embedding)\n",
    "        query_embedding=query_embedding.to(device)\n",
    "        key_embedding=key_embedding.to(device)\n",
    "        pred_logits=torch.mm(query_embedding,key_embedding.T)\n",
    "        mean_score=torch.mean(pred_logits[0])\n",
    "        total_mean+=mean_score\n",
    "        top_k=torch.topk(pred_logits[0],k=rerank_num)[1]\n",
    "#         print(pred_logits[0][top_k[-5:]])\n",
    "        rerank=[candidate_set[query_paper][idx.cpu().item()] for idx in top_k]\n",
    "        rerank_candidate[query_paper]=rerank\n",
    "        pbar.postfix=f\"mean score:{mean_score}\"\n",
    "    print(\"total_mean\",total_mean/len(pbar))\n",
    "    print(\"empty embedding cnt->\",empty_embed_cnt)\n",
    "    print(\"min rerank num->\",rerank_num)\n",
    "    return rerank_candidate\n",
    "        \n",
    "        \n"
   ]
  },
  {
   "cell_type": "code",
   "execution_count": 54,
   "id": "4814628a",
   "metadata": {},
   "outputs": [],
   "source": [
    "device=torch.device('cuda' if torch.cuda.is_available() else 'cpu')"
   ]
  },
  {
   "cell_type": "code",
   "execution_count": 55,
   "id": "66aeaf87",
   "metadata": {},
   "outputs": [
    {
     "name": "stderr",
     "output_type": "stream",
     "text": [
      "100%|█████████████████████████████████████████████████████████████████████████████████████████████████████████| 944/944 [01:04<00:00, 14.69it/s, mean score:4.391404628753662]\n"
     ]
    },
    {
     "name": "stdout",
     "output_type": "stream",
     "text": [
      "total_mean tensor(3.7915, device='cuda:0')\n",
      "empty embedding cnt-> 576703\n",
      "min rerank num-> 1891\n"
     ]
    }
   ],
   "source": [
    "rerank_candidate=rerank(candidate_set,query_id2embedding,key_id2embedding,device=device)"
   ]
  },
  {
   "cell_type": "code",
   "execution_count": 56,
   "id": "32f933c3",
   "metadata": {},
   "outputs": [],
   "source": [
    "sys.path.append(\"/share/data/mei-work/kangrui/github/ssref\")\n",
    "from utils.test_utils import *\n",
    "from utils.utils import *"
   ]
  },
  {
   "cell_type": "code",
   "execution_count": 57,
   "id": "1f2ac9c1",
   "metadata": {},
   "outputs": [],
   "source": [
    "def show_rerank_rst(rerank_candidate,gold_set):\n",
    "    pool_length=len(next(iter(rerank_candidate.values())))\n",
    "    i=2\n",
    "    while 1:\n",
    "        all_pred_topN=[]\n",
    "        all_gold=[]\n",
    "        for query_paper,paperlist in rerank_candidate.items():\n",
    "            topN=paperlist[:i]\n",
    "            all_pred_topN.append(topN)\n",
    "            all_gold.append(gold_set[query_paper])\n",
    "        all_pred_topN=np.array(all_pred_topN)\n",
    "        metric = get_precision_recall_f1(all_pred_topN, all_gold)\n",
    "        print(f\"top{i}:\\n{metric}\")\n",
    "        if i>pool_length:\n",
    "            break\n",
    "        i*=2"
   ]
  },
  {
   "cell_type": "code",
   "execution_count": 58,
   "id": "9c1a2343",
   "metadata": {},
   "outputs": [
    {
     "name": "stdout",
     "output_type": "stream",
     "text": [
      "top2:\n",
      "{'precision': 0.22828389830508475, 'recall': 0.011212278876170656, 'f1': 0.021374637988312135, 'true_pos': 431, 'false_pos': 1457, 'false_neg': 38009, 'num_sample': 944}\n",
      "top4:\n",
      "{'precision': 0.19491525423728814, 'recall': 0.019146722164412072, 'f1': 0.0348681334924899, 'true_pos': 736, 'false_pos': 3040, 'false_neg': 37704, 'num_sample': 944}\n",
      "top8:\n",
      "{'precision': 0.1637976694915254, 'recall': 0.032180020811654525, 'f1': 0.05379168934115761, 'true_pos': 1237, 'false_pos': 6315, 'false_neg': 37203, 'num_sample': 944}\n",
      "top16:\n",
      "{'precision': 0.13453389830508475, 'recall': 0.05286160249739855, 'f1': 0.07589978920817275, 'true_pos': 2032, 'false_pos': 13072, 'false_neg': 36408, 'num_sample': 944}\n",
      "top32:\n",
      "{'precision': 0.10464115466101695, 'recall': 0.08223204994797087, 'f1': 0.09209250334686626, 'true_pos': 3161, 'false_pos': 27047, 'false_neg': 35279, 'num_sample': 944}\n",
      "top64:\n",
      "{'precision': 0.07877052436440678, 'recall': 0.12380332986472424, 'f1': 0.09628098461296158, 'true_pos': 4759, 'false_pos': 55657, 'false_neg': 33681, 'num_sample': 944}\n",
      "top128:\n",
      "{'precision': 0.05827926377118644, 'recall': 0.1831945889698231, 'f1': 0.08842697822018986, 'true_pos': 7042, 'false_pos': 113790, 'false_neg': 31398, 'num_sample': 944}\n",
      "top256:\n",
      "{'precision': 0.04178942664194915, 'recall': 0.2627211238293444, 'f1': 0.07210869416654078, 'true_pos': 10099, 'false_pos': 231565, 'false_neg': 28341, 'num_sample': 944}\n",
      "top512:\n",
      "{'precision': 0.029178942664194914, 'recall': 0.3668834547346514, 'f1': 0.0540583722729806, 'true_pos': 14103, 'false_pos': 469225, 'false_neg': 24337, 'num_sample': 944}\n",
      "top1024:\n",
      "{'precision': 0.01951366359904661, 'recall': 0.4907127991675338, 'f1': 0.037534649486644485, 'true_pos': 18863, 'false_pos': 947793, 'false_neg': 19577, 'num_sample': 944}\n",
      "top2048:\n",
      "{'precision': 0.01318970771450851, 'recall': 0.6125130072840791, 'f1': 0.025823300529484186, 'true_pos': 23545, 'false_pos': 1761559, 'false_neg': 14895, 'num_sample': 944}\n"
     ]
    }
   ],
   "source": [
    "show_rerank_rst(rerank_candidate,gold_set)"
   ]
  },
  {
   "cell_type": "code",
   "execution_count": null,
   "id": "5f08401e",
   "metadata": {},
   "outputs": [],
   "source": []
  }
 ],
 "metadata": {
  "kernelspec": {
   "display_name": "Python 3 (ipykernel)",
   "language": "python",
   "name": "python3"
  },
  "language_info": {
   "codemirror_mode": {
    "name": "ipython",
    "version": 3
   },
   "file_extension": ".py",
   "mimetype": "text/x-python",
   "name": "python",
   "nbconvert_exporter": "python",
   "pygments_lexer": "ipython3",
   "version": "3.8.16"
  }
 },
 "nbformat": 4,
 "nbformat_minor": 5
}
